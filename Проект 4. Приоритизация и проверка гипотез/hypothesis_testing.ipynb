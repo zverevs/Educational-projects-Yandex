{
 "cells": [
  {
   "cell_type": "markdown",
   "metadata": {},
   "source": [
    "# Проект по приоритизации гипотез и проведению A/B тестирования\n",
    "**Контекст**: в данном проекте мы выступаем в качестве аналитика в крупном интернет магазине.  \n",
    "\n",
    "**Цель работы**: увеличить прибыль интернет магазина.  \n",
    "\n",
    "**Задачи**:\n",
    "В ходе проекта мы столкнёмся с решением двух независимых задач:\n",
    "1) Отделом маркетинга было разработано девять гипотез по увеличению прибыли, однако в виду ограниченности ресурсов нет возможности проверить их все. В связи с чем требуется приотиризировать предложенные гипотезы и выбрать наиболее перспективную.   \n",
    "2) Проанализировать результаты А/B тестирования, сделать выводы, дать рекомендации и принять обоснованное решение о приостановке либо продолжении тестирования.\n"
   ]
  },
  {
   "cell_type": "markdown",
   "metadata": {},
   "source": [
    "## Оглавление\n",
    "**[Часть 1. Приоритизация гипотез](#hyp)  \n",
    "[Часть 2. Анализ A/B-теста](#a_b_test)   \n",
    "[2.1 Извлечение и предобработка данных](#Data_preprocessing)    \n",
    "[2.2 Анализ сырых данные А/B теста](#analysis)  \n",
    "[2.3 Анализ аномалий в данных](#anomaly)  \n",
    "[2.4 Расчёт статистической значимости по «сырым» данным](#raw_stat)  \n",
    "[2.5 Расчёт статистической значимости по «очищенным» данным](#filt_stat)  \n",
    "[Общие выводы](#conclusion)**"
   ]
  },
  {
   "cell_type": "markdown",
   "metadata": {},
   "source": [
    "# Часть 1. Приоритизация гипотез <a id=\"hyp\"></a> "
   ]
  },
  {
   "cell_type": "code",
   "execution_count": 10,
   "metadata": {},
   "outputs": [],
   "source": [
    "import pandas as pd\n",
    "import scipy.stats as stats\n",
    "import datetime as dt\n",
    "import numpy as np\n",
    "import matplotlib.pyplot as plt\n",
    "from scipy import stats as st"
   ]
  },
  {
   "cell_type": "code",
   "execution_count": 11,
   "metadata": {},
   "outputs": [],
   "source": [
    "try:\n",
    "    data = pd.read_csv('C:/Users/zvere/Desktop/Яндекс Практикум/Проект 4/hypothesis.csv', sep=',' )\n",
    "except:\n",
    "    data = pd.read_csv('/datasets/hypothesis.csv', sep=',')"
   ]
  },
  {
   "cell_type": "markdown",
   "metadata": {},
   "source": [
    "Ознакомимся с перечнем гипотез и их параметрами"
   ]
  },
  {
   "cell_type": "code",
   "execution_count": 12,
   "metadata": {
    "scrolled": true
   },
   "outputs": [
    {
     "data": {
      "text/html": [
       "<div>\n",
       "<style scoped>\n",
       "    .dataframe tbody tr th:only-of-type {\n",
       "        vertical-align: middle;\n",
       "    }\n",
       "\n",
       "    .dataframe tbody tr th {\n",
       "        vertical-align: top;\n",
       "    }\n",
       "\n",
       "    .dataframe thead th {\n",
       "        text-align: right;\n",
       "    }\n",
       "</style>\n",
       "<table border=\"1\" class=\"dataframe\">\n",
       "  <thead>\n",
       "    <tr style=\"text-align: right;\">\n",
       "      <th></th>\n",
       "      <th>Hypothesis</th>\n",
       "      <th>Reach</th>\n",
       "      <th>Impact</th>\n",
       "      <th>Confidence</th>\n",
       "      <th>Efforts</th>\n",
       "    </tr>\n",
       "  </thead>\n",
       "  <tbody>\n",
       "    <tr>\n",
       "      <th>0</th>\n",
       "      <td>Добавить два новых канала привлечения трафика, что позволит привлекать на 30% больше пользователей</td>\n",
       "      <td>3</td>\n",
       "      <td>10</td>\n",
       "      <td>8</td>\n",
       "      <td>6</td>\n",
       "    </tr>\n",
       "    <tr>\n",
       "      <th>1</th>\n",
       "      <td>Запустить собственную службу доставки, что сократит срок доставки заказов</td>\n",
       "      <td>2</td>\n",
       "      <td>5</td>\n",
       "      <td>4</td>\n",
       "      <td>10</td>\n",
       "    </tr>\n",
       "    <tr>\n",
       "      <th>2</th>\n",
       "      <td>Добавить блоки рекомендаций товаров на сайт интернет магазина, чтобы повысить конверсию и средний чек заказа</td>\n",
       "      <td>8</td>\n",
       "      <td>3</td>\n",
       "      <td>7</td>\n",
       "      <td>3</td>\n",
       "    </tr>\n",
       "    <tr>\n",
       "      <th>3</th>\n",
       "      <td>Изменить структура категорий, что увеличит конверсию, т.к. пользователи быстрее найдут нужный товар</td>\n",
       "      <td>8</td>\n",
       "      <td>3</td>\n",
       "      <td>3</td>\n",
       "      <td>8</td>\n",
       "    </tr>\n",
       "    <tr>\n",
       "      <th>4</th>\n",
       "      <td>Изменить цвет фона главной страницы, чтобы увеличить вовлеченность пользователей</td>\n",
       "      <td>3</td>\n",
       "      <td>1</td>\n",
       "      <td>1</td>\n",
       "      <td>1</td>\n",
       "    </tr>\n",
       "    <tr>\n",
       "      <th>5</th>\n",
       "      <td>Добавить страницу отзывов клиентов о магазине, что позволит увеличить количество заказов</td>\n",
       "      <td>3</td>\n",
       "      <td>2</td>\n",
       "      <td>2</td>\n",
       "      <td>3</td>\n",
       "    </tr>\n",
       "    <tr>\n",
       "      <th>6</th>\n",
       "      <td>Показать на главной странице баннеры с актуальными акциями и распродажами, чтобы увеличить конверсию</td>\n",
       "      <td>5</td>\n",
       "      <td>3</td>\n",
       "      <td>8</td>\n",
       "      <td>3</td>\n",
       "    </tr>\n",
       "    <tr>\n",
       "      <th>7</th>\n",
       "      <td>Добавить форму подписки на все основные страницы, чтобы собрать базу клиентов для email-рассылок</td>\n",
       "      <td>10</td>\n",
       "      <td>7</td>\n",
       "      <td>8</td>\n",
       "      <td>5</td>\n",
       "    </tr>\n",
       "    <tr>\n",
       "      <th>8</th>\n",
       "      <td>Запустить акцию, дающую скидку на товар в день рождения</td>\n",
       "      <td>1</td>\n",
       "      <td>9</td>\n",
       "      <td>9</td>\n",
       "      <td>5</td>\n",
       "    </tr>\n",
       "  </tbody>\n",
       "</table>\n",
       "</div>"
      ],
      "text/plain": [
       "                                                                                                     Hypothesis  \\\n",
       "0            Добавить два новых канала привлечения трафика, что позволит привлекать на 30% больше пользователей   \n",
       "1                                     Запустить собственную службу доставки, что сократит срок доставки заказов   \n",
       "2  Добавить блоки рекомендаций товаров на сайт интернет магазина, чтобы повысить конверсию и средний чек заказа   \n",
       "3           Изменить структура категорий, что увеличит конверсию, т.к. пользователи быстрее найдут нужный товар   \n",
       "4                              Изменить цвет фона главной страницы, чтобы увеличить вовлеченность пользователей   \n",
       "5                      Добавить страницу отзывов клиентов о магазине, что позволит увеличить количество заказов   \n",
       "6          Показать на главной странице баннеры с актуальными акциями и распродажами, чтобы увеличить конверсию   \n",
       "7              Добавить форму подписки на все основные страницы, чтобы собрать базу клиентов для email-рассылок   \n",
       "8                                                       Запустить акцию, дающую скидку на товар в день рождения   \n",
       "\n",
       "   Reach  Impact  Confidence  Efforts  \n",
       "0      3      10           8        6  \n",
       "1      2       5           4       10  \n",
       "2      8       3           7        3  \n",
       "3      8       3           3        8  \n",
       "4      3       1           1        1  \n",
       "5      3       2           2        3  \n",
       "6      5       3           8        3  \n",
       "7     10       7           8        5  \n",
       "8      1       9           9        5  "
      ]
     },
     "execution_count": 12,
     "metadata": {},
     "output_type": "execute_result"
    }
   ],
   "source": [
    "pd.set_option('max_colwidth', None)\n",
    "data.head(10)"
   ]
  },
  {
   "cell_type": "code",
   "execution_count": 13,
   "metadata": {},
   "outputs": [],
   "source": [
    "data.columns = [x.lower() for x in data.columns]"
   ]
  },
  {
   "cell_type": "markdown",
   "metadata": {},
   "source": [
    "Применим методы приоритизации гипотез ICE и RICE, после чего сравним результаты"
   ]
  },
  {
   "cell_type": "code",
   "execution_count": 14,
   "metadata": {},
   "outputs": [
    {
     "data": {
      "text/html": [
       "<div>\n",
       "<style scoped>\n",
       "    .dataframe tbody tr th:only-of-type {\n",
       "        vertical-align: middle;\n",
       "    }\n",
       "\n",
       "    .dataframe tbody tr th {\n",
       "        vertical-align: top;\n",
       "    }\n",
       "\n",
       "    .dataframe thead th {\n",
       "        text-align: right;\n",
       "    }\n",
       "</style>\n",
       "<table border=\"1\" class=\"dataframe\">\n",
       "  <thead>\n",
       "    <tr style=\"text-align: right;\">\n",
       "      <th></th>\n",
       "      <th>hypothesis</th>\n",
       "      <th>ICE</th>\n",
       "    </tr>\n",
       "  </thead>\n",
       "  <tbody>\n",
       "    <tr>\n",
       "      <th>8</th>\n",
       "      <td>Запустить акцию, дающую скидку на товар в день рождения</td>\n",
       "      <td>16.20</td>\n",
       "    </tr>\n",
       "    <tr>\n",
       "      <th>0</th>\n",
       "      <td>Добавить два новых канала привлечения трафика, что позволит привлекать на 30% больше пользователей</td>\n",
       "      <td>13.33</td>\n",
       "    </tr>\n",
       "    <tr>\n",
       "      <th>7</th>\n",
       "      <td>Добавить форму подписки на все основные страницы, чтобы собрать базу клиентов для email-рассылок</td>\n",
       "      <td>11.20</td>\n",
       "    </tr>\n",
       "    <tr>\n",
       "      <th>6</th>\n",
       "      <td>Показать на главной странице баннеры с актуальными акциями и распродажами, чтобы увеличить конверсию</td>\n",
       "      <td>8.00</td>\n",
       "    </tr>\n",
       "    <tr>\n",
       "      <th>2</th>\n",
       "      <td>Добавить блоки рекомендаций товаров на сайт интернет магазина, чтобы повысить конверсию и средний чек заказа</td>\n",
       "      <td>7.00</td>\n",
       "    </tr>\n",
       "    <tr>\n",
       "      <th>1</th>\n",
       "      <td>Запустить собственную службу доставки, что сократит срок доставки заказов</td>\n",
       "      <td>2.00</td>\n",
       "    </tr>\n",
       "    <tr>\n",
       "      <th>5</th>\n",
       "      <td>Добавить страницу отзывов клиентов о магазине, что позволит увеличить количество заказов</td>\n",
       "      <td>1.33</td>\n",
       "    </tr>\n",
       "    <tr>\n",
       "      <th>3</th>\n",
       "      <td>Изменить структура категорий, что увеличит конверсию, т.к. пользователи быстрее найдут нужный товар</td>\n",
       "      <td>1.12</td>\n",
       "    </tr>\n",
       "    <tr>\n",
       "      <th>4</th>\n",
       "      <td>Изменить цвет фона главной страницы, чтобы увеличить вовлеченность пользователей</td>\n",
       "      <td>1.00</td>\n",
       "    </tr>\n",
       "  </tbody>\n",
       "</table>\n",
       "</div>"
      ],
      "text/plain": [
       "                                                                                                     hypothesis  \\\n",
       "8                                                       Запустить акцию, дающую скидку на товар в день рождения   \n",
       "0            Добавить два новых канала привлечения трафика, что позволит привлекать на 30% больше пользователей   \n",
       "7              Добавить форму подписки на все основные страницы, чтобы собрать базу клиентов для email-рассылок   \n",
       "6          Показать на главной странице баннеры с актуальными акциями и распродажами, чтобы увеличить конверсию   \n",
       "2  Добавить блоки рекомендаций товаров на сайт интернет магазина, чтобы повысить конверсию и средний чек заказа   \n",
       "1                                     Запустить собственную службу доставки, что сократит срок доставки заказов   \n",
       "5                      Добавить страницу отзывов клиентов о магазине, что позволит увеличить количество заказов   \n",
       "3           Изменить структура категорий, что увеличит конверсию, т.к. пользователи быстрее найдут нужный товар   \n",
       "4                              Изменить цвет фона главной страницы, чтобы увеличить вовлеченность пользователей   \n",
       "\n",
       "     ICE  \n",
       "8  16.20  \n",
       "0  13.33  \n",
       "7  11.20  \n",
       "6   8.00  \n",
       "2   7.00  \n",
       "1   2.00  \n",
       "5   1.33  \n",
       "3   1.12  \n",
       "4   1.00  "
      ]
     },
     "execution_count": 14,
     "metadata": {},
     "output_type": "execute_result"
    }
   ],
   "source": [
    "data['ICE'] = ((data['impact'] * data['confidence']) / data['efforts']).round(2)\n",
    "data[['hypothesis', 'ICE']].sort_values(by='ICE', ascending=False)"
   ]
  },
  {
   "cell_type": "markdown",
   "metadata": {},
   "source": [
    "Как видно из таблицы, наибольшей рейтинг по методу ICE у гипотез №8, 0, 7. Лидером стала гипотеза о скидке пользователям в их день рождения (но как известно, день рождения только раз в году)."
   ]
  },
  {
   "cell_type": "code",
   "execution_count": 15,
   "metadata": {},
   "outputs": [
    {
     "data": {
      "text/html": [
       "<div>\n",
       "<style scoped>\n",
       "    .dataframe tbody tr th:only-of-type {\n",
       "        vertical-align: middle;\n",
       "    }\n",
       "\n",
       "    .dataframe tbody tr th {\n",
       "        vertical-align: top;\n",
       "    }\n",
       "\n",
       "    .dataframe thead th {\n",
       "        text-align: right;\n",
       "    }\n",
       "</style>\n",
       "<table border=\"1\" class=\"dataframe\">\n",
       "  <thead>\n",
       "    <tr style=\"text-align: right;\">\n",
       "      <th></th>\n",
       "      <th>hypothesis</th>\n",
       "      <th>RICE</th>\n",
       "    </tr>\n",
       "  </thead>\n",
       "  <tbody>\n",
       "    <tr>\n",
       "      <th>7</th>\n",
       "      <td>Добавить форму подписки на все основные страницы, чтобы собрать базу клиентов для email-рассылок</td>\n",
       "      <td>112.0</td>\n",
       "    </tr>\n",
       "    <tr>\n",
       "      <th>2</th>\n",
       "      <td>Добавить блоки рекомендаций товаров на сайт интернет магазина, чтобы повысить конверсию и средний чек заказа</td>\n",
       "      <td>56.0</td>\n",
       "    </tr>\n",
       "    <tr>\n",
       "      <th>0</th>\n",
       "      <td>Добавить два новых канала привлечения трафика, что позволит привлекать на 30% больше пользователей</td>\n",
       "      <td>40.0</td>\n",
       "    </tr>\n",
       "    <tr>\n",
       "      <th>6</th>\n",
       "      <td>Показать на главной странице баннеры с актуальными акциями и распродажами, чтобы увеличить конверсию</td>\n",
       "      <td>40.0</td>\n",
       "    </tr>\n",
       "    <tr>\n",
       "      <th>8</th>\n",
       "      <td>Запустить акцию, дающую скидку на товар в день рождения</td>\n",
       "      <td>16.2</td>\n",
       "    </tr>\n",
       "    <tr>\n",
       "      <th>3</th>\n",
       "      <td>Изменить структура категорий, что увеличит конверсию, т.к. пользователи быстрее найдут нужный товар</td>\n",
       "      <td>9.0</td>\n",
       "    </tr>\n",
       "    <tr>\n",
       "      <th>1</th>\n",
       "      <td>Запустить собственную службу доставки, что сократит срок доставки заказов</td>\n",
       "      <td>4.0</td>\n",
       "    </tr>\n",
       "    <tr>\n",
       "      <th>5</th>\n",
       "      <td>Добавить страницу отзывов клиентов о магазине, что позволит увеличить количество заказов</td>\n",
       "      <td>4.0</td>\n",
       "    </tr>\n",
       "    <tr>\n",
       "      <th>4</th>\n",
       "      <td>Изменить цвет фона главной страницы, чтобы увеличить вовлеченность пользователей</td>\n",
       "      <td>3.0</td>\n",
       "    </tr>\n",
       "  </tbody>\n",
       "</table>\n",
       "</div>"
      ],
      "text/plain": [
       "                                                                                                     hypothesis  \\\n",
       "7              Добавить форму подписки на все основные страницы, чтобы собрать базу клиентов для email-рассылок   \n",
       "2  Добавить блоки рекомендаций товаров на сайт интернет магазина, чтобы повысить конверсию и средний чек заказа   \n",
       "0            Добавить два новых канала привлечения трафика, что позволит привлекать на 30% больше пользователей   \n",
       "6          Показать на главной странице баннеры с актуальными акциями и распродажами, чтобы увеличить конверсию   \n",
       "8                                                       Запустить акцию, дающую скидку на товар в день рождения   \n",
       "3           Изменить структура категорий, что увеличит конверсию, т.к. пользователи быстрее найдут нужный товар   \n",
       "1                                     Запустить собственную службу доставки, что сократит срок доставки заказов   \n",
       "5                      Добавить страницу отзывов клиентов о магазине, что позволит увеличить количество заказов   \n",
       "4                              Изменить цвет фона главной страницы, чтобы увеличить вовлеченность пользователей   \n",
       "\n",
       "    RICE  \n",
       "7  112.0  \n",
       "2   56.0  \n",
       "0   40.0  \n",
       "6   40.0  \n",
       "8   16.2  \n",
       "3    9.0  \n",
       "1    4.0  \n",
       "5    4.0  \n",
       "4    3.0  "
      ]
     },
     "execution_count": 15,
     "metadata": {},
     "output_type": "execute_result"
    }
   ],
   "source": [
    "data['RICE'] = (data['reach'] * data['impact'] * data['confidence']) / data['efforts']\n",
    "data[['hypothesis', 'RICE']].sort_values(by='RICE', ascending=False)"
   ]
  },
  {
   "cell_type": "markdown",
   "metadata": {},
   "source": [
    "Однако после того, как в расчётную формулу мы добавили параметр \"reach\", то есть охват аудитории, мы получили иные результаты. Лидером со значительным отрывом стала гипотеза №7 (которая по методу ICE была лишь третей)"
   ]
  },
  {
   "cell_type": "markdown",
   "metadata": {},
   "source": [
    "<div style=\"border:solid Gold; padding: 40px\">\n",
    "Исследовав представленные гипотезы двумя методами ICE и RICE, можно сделать вывод, что параметр reach (охват аудитории) значительно влияет на конечный результат. Так как мы имеем представление о предполагаемом охвате той или иной гипотезы, то будем ориентироваться на метод RICE.\n",
    "    \n",
    "Наиболее перспективной (с двухкратным отрывом от конкруентов) является гипотеза №7 \"Добавить форму подписки на все основные страницы, чтобы собрать базу клиентов для email-рассылок\". Будучи задачей средней сложности по реализумости, её реализация по предварительным данным должна увеличить прибыль компании. "
   ]
  },
  {
   "cell_type": "markdown",
   "metadata": {},
   "source": [
    "# Часть 2. Анализ A/B-теста <a id=\"a_b_test\"></a> "
   ]
  },
  {
   "cell_type": "markdown",
   "metadata": {},
   "source": [
    "## Извлечение и предобработка данных <a id=\"Data_preprocessing\"></a> "
   ]
  },
  {
   "cell_type": "markdown",
   "metadata": {},
   "source": [
    "**Изучим первый датасет**"
   ]
  },
  {
   "cell_type": "code",
   "execution_count": 16,
   "metadata": {},
   "outputs": [],
   "source": [
    "try:\n",
    "    visitors = pd.read_csv('C:/Users/zvere/Desktop/Яндекс Практикум/Проект 4/visitors.csv', sep=',' )\n",
    "except:\n",
    "    visitors = pd.read_csv('/datasets/visitors.csv')"
   ]
  },
  {
   "cell_type": "code",
   "execution_count": 17,
   "metadata": {},
   "outputs": [
    {
     "data": {
      "text/html": [
       "<div>\n",
       "<style scoped>\n",
       "    .dataframe tbody tr th:only-of-type {\n",
       "        vertical-align: middle;\n",
       "    }\n",
       "\n",
       "    .dataframe tbody tr th {\n",
       "        vertical-align: top;\n",
       "    }\n",
       "\n",
       "    .dataframe thead th {\n",
       "        text-align: right;\n",
       "    }\n",
       "</style>\n",
       "<table border=\"1\" class=\"dataframe\">\n",
       "  <thead>\n",
       "    <tr style=\"text-align: right;\">\n",
       "      <th></th>\n",
       "      <th>date</th>\n",
       "      <th>group</th>\n",
       "      <th>visitors</th>\n",
       "    </tr>\n",
       "  </thead>\n",
       "  <tbody>\n",
       "    <tr>\n",
       "      <th>0</th>\n",
       "      <td>2019-08-01</td>\n",
       "      <td>A</td>\n",
       "      <td>719</td>\n",
       "    </tr>\n",
       "    <tr>\n",
       "      <th>1</th>\n",
       "      <td>2019-08-02</td>\n",
       "      <td>A</td>\n",
       "      <td>619</td>\n",
       "    </tr>\n",
       "    <tr>\n",
       "      <th>2</th>\n",
       "      <td>2019-08-03</td>\n",
       "      <td>A</td>\n",
       "      <td>507</td>\n",
       "    </tr>\n",
       "    <tr>\n",
       "      <th>3</th>\n",
       "      <td>2019-08-04</td>\n",
       "      <td>A</td>\n",
       "      <td>717</td>\n",
       "    </tr>\n",
       "    <tr>\n",
       "      <th>4</th>\n",
       "      <td>2019-08-05</td>\n",
       "      <td>A</td>\n",
       "      <td>756</td>\n",
       "    </tr>\n",
       "  </tbody>\n",
       "</table>\n",
       "</div>"
      ],
      "text/plain": [
       "         date group  visitors\n",
       "0  2019-08-01     A       719\n",
       "1  2019-08-02     A       619\n",
       "2  2019-08-03     A       507\n",
       "3  2019-08-04     A       717\n",
       "4  2019-08-05     A       756"
      ]
     },
     "execution_count": 17,
     "metadata": {},
     "output_type": "execute_result"
    }
   ],
   "source": [
    "visitors.head()"
   ]
  },
  {
   "cell_type": "code",
   "execution_count": 18,
   "metadata": {},
   "outputs": [
    {
     "name": "stdout",
     "output_type": "stream",
     "text": [
      "<class 'pandas.core.frame.DataFrame'>\n",
      "RangeIndex: 62 entries, 0 to 61\n",
      "Data columns (total 3 columns):\n",
      " #   Column    Non-Null Count  Dtype \n",
      "---  ------    --------------  ----- \n",
      " 0   date      62 non-null     object\n",
      " 1   group     62 non-null     object\n",
      " 2   visitors  62 non-null     int64 \n",
      "dtypes: int64(1), object(2)\n",
      "memory usage: 1.6+ KB\n"
     ]
    }
   ],
   "source": [
    "visitors.info()"
   ]
  },
  {
   "cell_type": "code",
   "execution_count": 19,
   "metadata": {},
   "outputs": [
    {
     "data": {
      "text/plain": [
       "0"
      ]
     },
     "execution_count": 19,
     "metadata": {},
     "output_type": "execute_result"
    }
   ],
   "source": [
    "visitors.duplicated().sum()"
   ]
  },
  {
   "cell_type": "markdown",
   "metadata": {},
   "source": [
    "Пропусков нет, явных дубликатов тоже, однако столбец date имеет некорректный тип данных. "
   ]
  },
  {
   "cell_type": "code",
   "execution_count": 20,
   "metadata": {},
   "outputs": [],
   "source": [
    "visitors['date'] = visitors['date'].map(lambda x: dt.datetime.strptime(x, '%Y-%m-%d'))"
   ]
  },
  {
   "cell_type": "code",
   "execution_count": 21,
   "metadata": {},
   "outputs": [
    {
     "name": "stdout",
     "output_type": "stream",
     "text": [
      "2019-08-31 00:00:00\n",
      "2019-08-01 00:00:00\n"
     ]
    }
   ],
   "source": [
    "print(visitors['date'].max())\n",
    "print(visitors['date'].min())"
   ]
  },
  {
   "cell_type": "markdown",
   "metadata": {},
   "source": [
    "Продолжительность теста - один месяц"
   ]
  },
  {
   "cell_type": "markdown",
   "metadata": {},
   "source": [
    "**посмотрим второй датасет**"
   ]
  },
  {
   "cell_type": "code",
   "execution_count": 22,
   "metadata": {},
   "outputs": [],
   "source": [
    "try:\n",
    "    orders = pd.read_csv('C:/Users/zvere/Desktop/Яндекс Практикум/Проект 4/orders.csv', sep=',' )\n",
    "except:\n",
    "    orders = pd.read_csv('/datasets/orders.csv')"
   ]
  },
  {
   "cell_type": "code",
   "execution_count": 23,
   "metadata": {},
   "outputs": [
    {
     "data": {
      "text/html": [
       "<div>\n",
       "<style scoped>\n",
       "    .dataframe tbody tr th:only-of-type {\n",
       "        vertical-align: middle;\n",
       "    }\n",
       "\n",
       "    .dataframe tbody tr th {\n",
       "        vertical-align: top;\n",
       "    }\n",
       "\n",
       "    .dataframe thead th {\n",
       "        text-align: right;\n",
       "    }\n",
       "</style>\n",
       "<table border=\"1\" class=\"dataframe\">\n",
       "  <thead>\n",
       "    <tr style=\"text-align: right;\">\n",
       "      <th></th>\n",
       "      <th>transactionId</th>\n",
       "      <th>visitorId</th>\n",
       "      <th>date</th>\n",
       "      <th>revenue</th>\n",
       "      <th>group</th>\n",
       "    </tr>\n",
       "  </thead>\n",
       "  <tbody>\n",
       "    <tr>\n",
       "      <th>0</th>\n",
       "      <td>3667963787</td>\n",
       "      <td>3312258926</td>\n",
       "      <td>2019-08-15</td>\n",
       "      <td>1650</td>\n",
       "      <td>B</td>\n",
       "    </tr>\n",
       "    <tr>\n",
       "      <th>1</th>\n",
       "      <td>2804400009</td>\n",
       "      <td>3642806036</td>\n",
       "      <td>2019-08-15</td>\n",
       "      <td>730</td>\n",
       "      <td>B</td>\n",
       "    </tr>\n",
       "    <tr>\n",
       "      <th>2</th>\n",
       "      <td>2961555356</td>\n",
       "      <td>4069496402</td>\n",
       "      <td>2019-08-15</td>\n",
       "      <td>400</td>\n",
       "      <td>A</td>\n",
       "    </tr>\n",
       "    <tr>\n",
       "      <th>3</th>\n",
       "      <td>3797467345</td>\n",
       "      <td>1196621759</td>\n",
       "      <td>2019-08-15</td>\n",
       "      <td>9759</td>\n",
       "      <td>B</td>\n",
       "    </tr>\n",
       "    <tr>\n",
       "      <th>4</th>\n",
       "      <td>2282983706</td>\n",
       "      <td>2322279887</td>\n",
       "      <td>2019-08-15</td>\n",
       "      <td>2308</td>\n",
       "      <td>B</td>\n",
       "    </tr>\n",
       "  </tbody>\n",
       "</table>\n",
       "</div>"
      ],
      "text/plain": [
       "   transactionId   visitorId        date  revenue group\n",
       "0     3667963787  3312258926  2019-08-15     1650     B\n",
       "1     2804400009  3642806036  2019-08-15      730     B\n",
       "2     2961555356  4069496402  2019-08-15      400     A\n",
       "3     3797467345  1196621759  2019-08-15     9759     B\n",
       "4     2282983706  2322279887  2019-08-15     2308     B"
      ]
     },
     "execution_count": 23,
     "metadata": {},
     "output_type": "execute_result"
    }
   ],
   "source": [
    "orders.head()"
   ]
  },
  {
   "cell_type": "code",
   "execution_count": 24,
   "metadata": {},
   "outputs": [
    {
     "name": "stdout",
     "output_type": "stream",
     "text": [
      "<class 'pandas.core.frame.DataFrame'>\n",
      "RangeIndex: 1197 entries, 0 to 1196\n",
      "Data columns (total 5 columns):\n",
      " #   Column         Non-Null Count  Dtype \n",
      "---  ------         --------------  ----- \n",
      " 0   transactionId  1197 non-null   int64 \n",
      " 1   visitorId      1197 non-null   int64 \n",
      " 2   date           1197 non-null   object\n",
      " 3   revenue        1197 non-null   int64 \n",
      " 4   group          1197 non-null   object\n",
      "dtypes: int64(3), object(2)\n",
      "memory usage: 46.9+ KB\n"
     ]
    }
   ],
   "source": [
    "orders.info()"
   ]
  },
  {
   "cell_type": "code",
   "execution_count": 25,
   "metadata": {},
   "outputs": [
    {
     "data": {
      "text/plain": [
       "0"
      ]
     },
     "execution_count": 25,
     "metadata": {},
     "output_type": "execute_result"
    }
   ],
   "source": [
    "orders.duplicated().sum()"
   ]
  },
  {
   "cell_type": "markdown",
   "metadata": {},
   "source": [
    "Пропусков нет, явных дубликатов тоже, однако столбец date имеет некорректный тип данных."
   ]
  },
  {
   "cell_type": "code",
   "execution_count": 26,
   "metadata": {},
   "outputs": [],
   "source": [
    "orders['date'] = orders['date'].map(lambda x: dt.datetime.strptime(x, '%Y-%m-%d'))"
   ]
  },
  {
   "cell_type": "markdown",
   "metadata": {},
   "source": [
    "Проверим, сколько групп учавствуют в A/B тестировании"
   ]
  },
  {
   "cell_type": "code",
   "execution_count": 27,
   "metadata": {},
   "outputs": [
    {
     "name": "stdout",
     "output_type": "stream",
     "text": [
      "['B' 'A']\n"
     ]
    }
   ],
   "source": [
    "print(orders['group'].unique())"
   ]
  },
  {
   "cell_type": "markdown",
   "metadata": {},
   "source": [
    "Проверим, есть ли пользователи, попавшие одновременно в группу А и В"
   ]
  },
  {
   "cell_type": "code",
   "execution_count": 28,
   "metadata": {},
   "outputs": [],
   "source": [
    "UserInTwoGroups = orders.groupby('visitorId').agg({'group' : 'nunique'}).query('group > 1')"
   ]
  },
  {
   "cell_type": "code",
   "execution_count": 29,
   "metadata": {},
   "outputs": [
    {
     "data": {
      "text/plain": [
       "group    58\n",
       "dtype: int64"
      ]
     },
     "execution_count": 29,
     "metadata": {},
     "output_type": "execute_result"
    }
   ],
   "source": [
    "UserInTwoGroups.count()"
   ]
  },
  {
   "cell_type": "code",
   "execution_count": 30,
   "metadata": {},
   "outputs": [
    {
     "data": {
      "text/plain": [
       "1031"
      ]
     },
     "execution_count": 30,
     "metadata": {},
     "output_type": "execute_result"
    }
   ],
   "source": [
    "orders['visitorId'].nunique() "
   ]
  },
  {
   "cell_type": "code",
   "execution_count": 31,
   "metadata": {},
   "outputs": [
    {
     "data": {
      "text/plain": [
       "group    0.056256\n",
       "dtype: float64"
      ]
     },
     "execution_count": 31,
     "metadata": {},
     "output_type": "execute_result"
    }
   ],
   "source": [
    "UserInTwoGroups.count() / orders['visitorId'].nunique()"
   ]
  },
  {
   "cell_type": "markdown",
   "metadata": {},
   "source": [
    "Пользователей, оказавшихся в обеих группах сразу - 58.  \n",
    "Это говорит о некорректности сбора данных (один пользователь должен быть либо в группе A, либо в группе В). Тем не менее удалять этих пользователей на данном этапе не станем, так как количество таких пользователей невелико, и что наиболее важно - из таблицы visitors невозможно корректно удалить данные об этих пользователях, так как в этой таблице собрано количество пользователей за день.  \n",
    "Так как далее по проекту есть цель посчитать накопленынй средний чек, то произвольное удаление 58 посещений из таблицы visitors может исказить результаты."
   ]
  },
  {
   "cell_type": "markdown",
   "metadata": {},
   "source": [
    "Проверим данные по количеству посетителей на нормальность криетрием Шапиро-Уилка:"
   ]
  },
  {
   "cell_type": "code",
   "execution_count": 32,
   "metadata": {},
   "outputs": [
    {
     "name": "stdout",
     "output_type": "stream",
     "text": [
      "p-значение:  0.029194815084338188\n",
      "Отвергаем нулевую гипотезу: распределение не нормально\n"
     ]
    }
   ],
   "source": [
    "alpha = 0.05  \n",
    "\n",
    "results = st.shapiro(visitors[visitors['group']=='A']['visitors'])\n",
    "p_value = results[1]  \n",
    "\n",
    "print('p-значение: ', p_value)\n",
    "\n",
    "if p_value < alpha:\n",
    "    print('Отвергаем нулевую гипотезу: распределение не нормально')\n",
    "else:\n",
    "    print('Не получилось отвергнуть нулевую гипотезу, всё нормально') "
   ]
  },
  {
   "cell_type": "code",
   "execution_count": 33,
   "metadata": {},
   "outputs": [
    {
     "name": "stdout",
     "output_type": "stream",
     "text": [
      "p-значение:  0.036449261009693146\n",
      "Отвергаем нулевую гипотезу: распределение не нормально\n"
     ]
    }
   ],
   "source": [
    "alpha = 0.05  \n",
    "\n",
    "results = st.shapiro(visitors[visitors['group']=='B']['visitors'])\n",
    "p_value = results[1]  \n",
    "\n",
    "print('p-значение: ', p_value)\n",
    "\n",
    "if p_value < alpha:\n",
    "    print('Отвергаем нулевую гипотезу: распределение не нормально')\n",
    "else:\n",
    "    print('Не получилось отвергнуть нулевую гипотезу, всё нормально') "
   ]
  },
  {
   "cell_type": "markdown",
   "metadata": {},
   "source": [
    "Количество пользователей для каждой группы распределенно не нормально"
   ]
  },
  {
   "cell_type": "code",
   "execution_count": 34,
   "metadata": {},
   "outputs": [
    {
     "name": "stdout",
     "output_type": "stream",
     "text": [
      "p-значение:  0.0\n",
      "Отвергаем нулевую гипотезу: распределение не нормально\n"
     ]
    }
   ],
   "source": [
    "alpha = 0.05  \n",
    "\n",
    "results = st.shapiro(orders[orders['group']=='B']['revenue'])\n",
    "p_value = results[1]  \n",
    "\n",
    "print('p-значение: ', p_value)\n",
    "\n",
    "if p_value < alpha:\n",
    "    print('Отвергаем нулевую гипотезу: распределение не нормально')\n",
    "else:\n",
    "    print('Не получилось отвергнуть нулевую гипотезу, всё нормально') "
   ]
  },
  {
   "cell_type": "code",
   "execution_count": 35,
   "metadata": {},
   "outputs": [
    {
     "name": "stdout",
     "output_type": "stream",
     "text": [
      "p-значение:  1.739703399801917e-34\n",
      "Отвергаем нулевую гипотезу: распределение не нормально\n"
     ]
    }
   ],
   "source": [
    "alpha = 0.05  \n",
    "\n",
    "results = st.shapiro(orders[orders['group']=='A']['revenue'])\n",
    "p_value = results[1]  \n",
    "\n",
    "print('p-значение: ', p_value)\n",
    "\n",
    "if p_value < alpha:\n",
    "    print('Отвергаем нулевую гипотезу: распределение не нормально')\n",
    "else:\n",
    "    print('Не получилось отвергнуть нулевую гипотезу, всё нормально') "
   ]
  },
  {
   "cell_type": "markdown",
   "metadata": {},
   "source": [
    "Выручка по заказам для каждой из групп также распределена не нормально. \n",
    "Отсюда делаем вывод, что в данных могут быть большие выбросы и/или иные аномаилии. Соответственно алгебраические метрики работают плохо.\n",
    "В связи с чем, в дальнейшем в этом проекте будем использовать непараметрический метод Манна-Уитни."
   ]
  },
  {
   "cell_type": "markdown",
   "metadata": {},
   "source": [
    "<div style=\"border:solid Gold; padding: 40px\">\n",
    "    \n",
    "**Таким образом, проведя предобработку данных можно сделать следующие выводы:**  \n",
    "    \n",
    "1. Пропусков и дубликатов в исходных таблицах нет.  \n",
    "2. В A/B тестировании приняли участие две группы.  \n",
    "3. Продолжительность теста - один месяц.  \n",
    "4. 58 пользователей из 1031 попали одновременно в 2 группы (А и В) - это около 5% от всей выборки. Это означает, что отбор данных происходил с ошибкой. Тем не менее, чтобы не исказить результаты проведенного исследования удалять эти данные мы не станем.  \n",
    "5. Количество посетителей, а также выручка по заказам для каждой из исследуемых групп распределены не нормально. Это говорит о возможном наличии выбросов в этих данных. В связи с чем в дальнейшем исследовании будем использовать критерий Манна-Уитни. "
   ]
  },
  {
   "cell_type": "markdown",
   "metadata": {},
   "source": [
    "## Анализ сырых данных А/B теста <a id=\"analysis\"></a> "
   ]
  },
  {
   "cell_type": "markdown",
   "metadata": {},
   "source": [
    "Для того, чтобы построить репрезентативные графики, нам нужно собрать кумулятивные (накопленные) данные по выручке и среднему чеку"
   ]
  },
  {
   "cell_type": "code",
   "execution_count": 36,
   "metadata": {
    "scrolled": true
   },
   "outputs": [
    {
     "name": "stdout",
     "output_type": "stream",
     "text": [
      "        date group  orders  buyers  revenue  visitors\n",
      "0 2019-08-01     A      24      20   148579       719\n",
      "1 2019-08-01     B      21      20   101217       713\n",
      "2 2019-08-02     A      44      38   242401      1338\n",
      "3 2019-08-02     B      45      43   266748      1294\n",
      "4 2019-08-03     A      68      62   354874      1845\n"
     ]
    }
   ],
   "source": [
    "#уникальные пары значений дат и групп \n",
    "datesGroups = orders[['date','group']].drop_duplicates() \n",
    "# кумулятивные даныне о заказах, собранные и агрегированные за каждый день теста \n",
    "ordersAggregated = datesGroups.apply(lambda x: orders[np.logical_and(orders['date'] <= x['date'], orders['group'] == x['group'])].agg({'date' : 'max', 'group' : 'max', 'transactionId' : 'nunique', 'visitorId' : 'nunique', 'revenue' : 'sum'}), axis=1).sort_values(by=['date','group'])\n",
    "# кумулятивные даныне о посетителях, собранные и агрегированные за каждый день теста \n",
    "visitorsAggregated = datesGroups.apply(lambda x: visitors[np.logical_and(visitors['date'] <= x['date'], visitors['group'] == x['group'])].agg({'date' : 'max', 'group' : 'max', 'visitors' : 'sum'}), axis=1).sort_values(by=['date','group'])\n",
    "# данные о заказах и посетителях объеденяем в одной таблице\n",
    "cumulativeData = ordersAggregated.merge(visitorsAggregated, left_on=['date', 'group'], right_on=['date', 'group'])\n",
    "cumulativeData.columns = ['date', 'group', 'orders', 'buyers', 'revenue', 'visitors']\n",
    "\n",
    "print(cumulativeData.head(5)) "
   ]
  },
  {
   "cell_type": "code",
   "execution_count": 37,
   "metadata": {},
   "outputs": [],
   "source": [
    "# датафреймы с кумулятивным количеством заказов и кумулятивной выручкой по дням в группе А и группе B\n",
    "cumulativeRevenueA = cumulativeData[cumulativeData['group']=='A'][['date','revenue', 'orders']]\n",
    "cumulativeRevenueB = cumulativeData[cumulativeData['group']=='B'][['date','revenue', 'orders']]\n",
    "\n",
    "ordersByUsers = (orders.groupby('visitorId', as_index=False)\n",
    "    .agg({'transactionId': 'nunique'}))\n",
    "\n",
    "ordersByUsers.columns = ['visitorId', 'orders']"
   ]
  },
  {
   "cell_type": "markdown",
   "metadata": {},
   "source": [
    "#### Строим график кумулятивной выручки по группам"
   ]
  },
  {
   "cell_type": "code",
   "execution_count": 38,
   "metadata": {},
   "outputs": [
    {
     "data": {
      "image/png": "[encoded data removed]",
      "text/plain": [
       "<Figure size 1080x504 with 1 Axes>"
      ]
     },
     "metadata": {
      "needs_background": "light"
     },
     "output_type": "display_data"
    }
   ],
   "source": [
    "plt.figure(figsize=(15, 7))\n",
    "plt.plot(cumulativeRevenueA['date'], cumulativeRevenueA['revenue'], label='A')\n",
    "plt.plot(cumulativeRevenueB['date'], cumulativeRevenueB['revenue'], label='B')\n",
    "plt.title('График кумулятивной выручки по группам')\n",
    "plt.xlabel('Дата')\n",
    "plt.ylabel('Накопленная выручка')\n",
    "plt.legend() \n",
    "plt.show()"
   ]
  },
  {
   "cell_type": "markdown",
   "metadata": {},
   "source": [
    "Значения выручки растут на протяжении всего теста для группы А и группы В. К концу теста виден значительный разрыв в выручке между группой А и группой В. При этом в раойне 18-20 августа у группы В заметен резкий скачок выручки. Это может быть связанно с аномальным кол-ом заказов в эти дни, либо экстремально высокой выручкой"
   ]
  },
  {
   "cell_type": "markdown",
   "metadata": {},
   "source": [
    "#### Строим график кумулятивного среднего чека по группам"
   ]
  },
  {
   "cell_type": "code",
   "execution_count": 39,
   "metadata": {
    "scrolled": false
   },
   "outputs": [
    {
     "data": {
      "image/png": "[encoded data removed]",
      "text/plain": [
       "<Figure size 1080x504 with 1 Axes>"
      ]
     },
     "metadata": {
      "needs_background": "light"
     },
     "output_type": "display_data"
    }
   ],
   "source": [
    "plt.figure(figsize=(15, 7))\n",
    "plt.plot(cumulativeRevenueA['date'], cumulativeRevenueA['revenue']/cumulativeRevenueA['orders'], label='A')\n",
    "plt.plot(cumulativeRevenueB['date'], cumulativeRevenueB['revenue']/cumulativeRevenueB['orders'], label='B')\n",
    "\n",
    "plt.title('График кумулятивного среднего чека по группам')\n",
    "plt.xlabel('Дата')\n",
    "plt.ylabel('Кумулятивный средний чек')\n",
    "plt.legend() \n",
    "plt.show()"
   ]
  },
  {
   "cell_type": "markdown",
   "metadata": {},
   "source": [
    "К концу периода теста виден значительный разрыв в среднем чеке между группой А и группой В. В раойне 18-20 августа у группы В заметен резкий скачок среднего чека, который после всплеска плавно начинает снижаться, что может говорить о нисходящем тренде.  Всплеск средной выручки может быть связанн с аномальными кол-ом заказов в эти дни, либо экстремально высокой выручкой"
   ]
  },
  {
   "cell_type": "markdown",
   "metadata": {},
   "source": [
    "#### Строим график относительного изменения кумулятивного среднего чека группы B к группе A"
   ]
  },
  {
   "cell_type": "code",
   "execution_count": 40,
   "metadata": {},
   "outputs": [
    {
     "data": {
      "image/png": "[encoded data removed]",
      "text/plain": [
       "<Figure size 1080x360 with 1 Axes>"
      ]
     },
     "metadata": {
      "needs_background": "light"
     },
     "output_type": "display_data"
    }
   ],
   "source": [
    "mergedCumulativeRevenue = cumulativeRevenueA.merge(cumulativeRevenueB, left_on='date', right_on='date', how='left', suffixes=['A', 'B'])\n",
    "\n",
    "plt.figure(figsize=(15, 5))\n",
    "plt.plot(mergedCumulativeRevenue['date'], (mergedCumulativeRevenue['revenueB']/mergedCumulativeRevenue['ordersB'])/(mergedCumulativeRevenue['revenueA']/mergedCumulativeRevenue['ordersA'])-1)\n",
    "plt.axhline(y=0, color='black', linestyle='--') \n",
    "plt.title('График относительного изменения кумулятивного среднего чека группы B к группе A')\n",
    "plt.xlabel('Дата')\n",
    "plt.ylabel('Относительное изменение ср. чека группы В к группе А')\n",
    "plt.show()"
   ]
  },
  {
   "cell_type": "markdown",
   "metadata": {},
   "source": [
    "На графике относительного изменения кумулятивного среднего чека группы B к группе A также виден аномальный всплеск в районе 18-20 августа. Помимо этого, обращается на себя внимание факт того, что в середине теста средние значения чека группы В были ниже, чем у группы А, а также понижательный тренд к концу теста"
   ]
  },
  {
   "cell_type": "markdown",
   "metadata": {},
   "source": [
    "#### Строим график кумулятивного среднего количества заказов на посетителя по группам"
   ]
  },
  {
   "cell_type": "code",
   "execution_count": 41,
   "metadata": {},
   "outputs": [
    {
     "data": {
      "image/png": "[encoded data removed]",
      "text/plain": [
       "<Figure size 1080x504 with 1 Axes>"
      ]
     },
     "metadata": {
      "needs_background": "light"
     },
     "output_type": "display_data"
    }
   ],
   "source": [
    "cumulativeOrderA = cumulativeData[cumulativeData['group']=='A'][['date','visitors', 'orders']]\n",
    "cumulativeOrderB = cumulativeData[cumulativeData['group']=='B'][['date','visitors', 'orders']]\n",
    "\n",
    "plt.figure(figsize=(15, 7))\n",
    "plt.plot(cumulativeOrderA['date'], cumulativeOrderA['orders']/cumulativeOrderA['visitors'], label='A')\n",
    "plt.plot(cumulativeOrderB['date'], cumulativeOrderB['orders']/cumulativeOrderB['visitors'], label='B')\n",
    "\n",
    "plt.title('График кумулятивного среднего количества заказов на посетителя по группам')\n",
    "plt.xlabel('Дата')\n",
    "plt.ylabel('Среднее кол-во заказов')\n",
    "plt.legend() \n",
    "plt.show()"
   ]
  },
  {
   "cell_type": "markdown",
   "metadata": {},
   "source": [
    "График кумулятивного среднего количества заказов на посетителя по группам показывает, что на одного посетителя в группе В приходилось больше заказов на протяении практически всего теста. В абсолютных величинах разница может показаться не очень большой, однако в относительных на первый взгляд велика"
   ]
  },
  {
   "cell_type": "markdown",
   "metadata": {},
   "source": [
    "#### Строим график относительного изменения кумулятивного среднего количества заказов на посетителя группы B к группе A"
   ]
  },
  {
   "cell_type": "code",
   "execution_count": 42,
   "metadata": {},
   "outputs": [
    {
     "data": {
      "image/png": "[encoded data removed]",
      "text/plain": [
       "<Figure size 1080x360 with 1 Axes>"
      ]
     },
     "metadata": {
      "needs_background": "light"
     },
     "output_type": "display_data"
    }
   ],
   "source": [
    "mergedCumulativeOrders = cumulativeOrderA.merge(cumulativeOrderB, left_on='date', right_on='date', how='left', suffixes=['A', 'B'])\n",
    "\n",
    "plt.figure(figsize=(15, 5))\n",
    "plt.plot(mergedCumulativeOrders['date'], (mergedCumulativeOrders['ordersB']/mergedCumulativeOrders['visitorsB'])/(mergedCumulativeOrders['ordersA']/mergedCumulativeOrders['visitorsA'])-1)\n",
    "plt.axhline(y=0, color='black', linestyle='--') \n",
    "plt.title('График относительного изменения кумулятивного среднего количества заказов на посетителя группы B к группе A')\n",
    "plt.xlabel('Дата')\n",
    "plt.ylabel('Относительное изменение ср. кол-ва заказов группы В к группе А')\n",
    "plt.show()"
   ]
  },
  {
   "cell_type": "markdown",
   "metadata": {},
   "source": [
    "График относительного изменения кумулятивного среднего количества заказов на посетителя группы B к группе A подтверждает данные из предыдущего графика. После небольшого провала в начале, среднее кол-во заказов на посетителя в группе В выше, чем в группе А на протяжении практически всего теста и колеблится в диапазоне от 0,10 до 0,20. Тем не менее разница в абсолютных цифрах не так велика, поэтому на основании данных графиков рано делать выводы о статичестиски значимых результатах"
   ]
  },
  {
   "cell_type": "markdown",
   "metadata": {},
   "source": [
    "## Анализ аномалий в данных <a id=\"anomaly\"></a> "
   ]
  },
  {
   "cell_type": "markdown",
   "metadata": {},
   "source": [
    "#### Строим точечный график количества заказов по пользователям"
   ]
  },
  {
   "cell_type": "code",
   "execution_count": 43,
   "metadata": {},
   "outputs": [
    {
     "data": {
      "image/png": "[encoded data removed]",
      "text/plain": [
       "<Figure size 720x360 with 1 Axes>"
      ]
     },
     "metadata": {
      "needs_background": "light"
     },
     "output_type": "display_data"
    }
   ],
   "source": [
    "x_values = pd.Series(range(0,len(ordersByUsers)))\n",
    "plt.figure(figsize=(10,5))\n",
    "plt.scatter(x_values, ordersByUsers['orders']) \n",
    "plt.title('График количества заказов по пользователям')\n",
    "plt.xlabel('Пользователи')\n",
    "plt.ylabel('Количество заказов')\n",
    "plt.show()"
   ]
  },
  {
   "cell_type": "markdown",
   "metadata": {},
   "source": [
    "Как видно из графика, большинство пользователей ограничиваются 1-2 заказами, однако у некоторых пользователь количество заказов больше 5. Такое большое колчество заказов у некоторых пользователей может значительно влиять на итоговый результат. Имеет смысл избавиться от аномальных значений"
   ]
  },
  {
   "cell_type": "markdown",
   "metadata": {},
   "source": [
    "#### Посчитаем 95-й и 99-й перцентили количества заказов на пользователя и выберем границу для определения аномальных заказов"
   ]
  },
  {
   "cell_type": "code",
   "execution_count": 44,
   "metadata": {},
   "outputs": [
    {
     "data": {
      "text/plain": [
       "array([2., 4.])"
      ]
     },
     "execution_count": 44,
     "metadata": {},
     "output_type": "execute_result"
    }
   ],
   "source": [
    "np.percentile(ordersByUsers['orders'], [95, 99])"
   ]
  },
  {
   "cell_type": "markdown",
   "metadata": {},
   "source": [
    "<div style=\"border:solid Gold; padding: 40px\">\n",
    "95% пользователей имеют не более 2 заказов, а 99% не более четырёх. В дальнейшем ограничим нашу выборку 4-мя заказами, посчитав остальные аномально высокими. "
   ]
  },
  {
   "cell_type": "markdown",
   "metadata": {},
   "source": [
    "#### Строим точечный график стоимостей заказов"
   ]
  },
  {
   "cell_type": "code",
   "execution_count": 45,
   "metadata": {},
   "outputs": [
    {
     "data": {
      "image/png": "[encoded data removed]",
      "text/plain": [
       "<Figure size 1080x576 with 1 Axes>"
      ]
     },
     "metadata": {
      "needs_background": "light"
     },
     "output_type": "display_data"
    }
   ],
   "source": [
    "x_values = pd.Series(range(0,len(ordersByUsers)))\n",
    "plt.figure(figsize=(15,8))\n",
    "plt.scatter(orders['date'], orders['revenue']) \n",
    "plt.title('График стоимости заказов')\n",
    "plt.xlabel('Дата')\n",
    "plt.yticks([1294500, 200000, 50000, 5000])\n",
    "plt.ylabel('Стоимость заказов')\n",
    "plt.show()"
   ]
  },
  {
   "cell_type": "markdown",
   "metadata": {},
   "source": [
    "Из графика явно следует, что заказы более 200 т.р. имеют аномальную природу"
   ]
  },
  {
   "cell_type": "code",
   "execution_count": 46,
   "metadata": {},
   "outputs": [
    {
     "data": {
      "text/plain": [
       "425     1294500\n",
       "1196     202740\n",
       "858       93940\n",
       "1136      92550\n",
       "744       86620\n",
       "         ...   \n",
       "933          60\n",
       "459          50\n",
       "756          50\n",
       "584          50\n",
       "1091         50\n",
       "Name: revenue, Length: 1197, dtype: int64"
      ]
     },
     "execution_count": 46,
     "metadata": {},
     "output_type": "execute_result"
    }
   ],
   "source": [
    "orders['revenue'].sort_values(ascending=False)"
   ]
  },
  {
   "cell_type": "markdown",
   "metadata": {},
   "source": [
    "#### Посчитаем 95-й и 99-й перцентили стоимости заказов и выберем границу для определения аномальных заказов"
   ]
  },
  {
   "cell_type": "code",
   "execution_count": 47,
   "metadata": {},
   "outputs": [
    {
     "data": {
      "text/plain": [
       "array([28000. , 58233.2])"
      ]
     },
     "execution_count": 47,
     "metadata": {},
     "output_type": "execute_result"
    }
   ],
   "source": [
    "np.percentile(orders['revenue'], [95, 99])"
   ]
  },
  {
   "cell_type": "markdown",
   "metadata": {},
   "source": [
    "<div style=\"border:solid Gold; padding: 40px\">\n",
    "99% заказов приходятся на сумму менее 58 т.р. Ограничим в дальнейшем нашу выборку этой суммой."
   ]
  },
  {
   "cell_type": "markdown",
   "metadata": {},
   "source": [
    "## Расчёт статистической значимости по «сырым» данным <a id=\"raw_stat\"></a> \n"
   ]
  },
  {
   "cell_type": "markdown",
   "metadata": {},
   "source": [
    "#### Посчитаем различия в среднем количестве заказов на посетителя между группами "
   ]
  },
  {
   "cell_type": "markdown",
   "metadata": {},
   "source": [
    "*Сформулируем гипотезы:*\n",
    "    \n",
    "Нулевая гипотеза (Н0) - различия в среднем количестве заказов между группами отсутствуют.  \n",
    "Альтернативная гипотеза (Н1) - различия в среднем количестве заказов между группами присутствуют.\n",
    "\n",
    "Ввиду имеющихся выбросов и ненормальность распределения данных, применим непараметрический тест Манна-Уитни.  \n",
    "Уровень статистической значимости alpha установим 0.05."
   ]
  },
  {
   "cell_type": "code",
   "execution_count": 48,
   "metadata": {},
   "outputs": [],
   "source": [
    "# для пользователей, которые заказывали хотя бы 1 раз, укажем число совершённых заказов. \n",
    "ordersByUsersA = (\n",
    "    orders[orders['group'] == 'A']\n",
    "    .groupby('visitorId', as_index=False)\n",
    "    .agg({'transactionId': pd.Series.nunique})\n",
    ")\n",
    "ordersByUsersA.columns = ['visitorId', 'orders']\n",
    "\n",
    "ordersByUsersB = (\n",
    "    orders[orders['group'] == 'B']\n",
    "    .groupby('visitorId', as_index=False)\n",
    "    .agg({'transactionId': pd.Series.nunique})\n",
    ")\n",
    "ordersByUsersB.columns = ['visitorId', 'orders'] \n",
    "\n",
    "# укажем количество визитов для каждой группы на каждую дату\n",
    "visitorsADaily = visitors[visitors['group'] == 'A'][['date', 'visitors']]\n",
    "visitorsADaily.columns = ['date', 'visitorsPerDateA']\n",
    "\n",
    "visitorsBDaily = visitors[visitors['group'] == 'A'][['date', 'visitors']]\n",
    "visitorsBDaily.columns = ['date', 'visitorsPerDateB']"
   ]
  },
  {
   "cell_type": "code",
   "execution_count": 49,
   "metadata": {},
   "outputs": [
    {
     "name": "stdout",
     "output_type": "stream",
     "text": [
      "p-value составляет 0.011\n",
      "Отвергаем нулевую гипотезу: разница статистически значима\n",
      "Относительный припрост среднего числа заказов группы В к группе А составляет 0.149\n"
     ]
    }
   ],
   "source": [
    "# формируем выборки\n",
    "sampleA = pd.concat([ordersByUsersA['orders'],pd.Series(0, index=np.arange(visitorsADaily['visitorsPerDateA'].sum() - len(ordersByUsersA['orders'])), name='orders')],axis=0)\n",
    "\n",
    "sampleB = pd.concat([ordersByUsersB['orders'],pd.Series(0, index=np.arange(visitorsBDaily['visitorsPerDateB'].sum() - len(ordersByUsersB['orders'])), name='orders')],axis=0)\n",
    "\n",
    "alpha = 0.05\n",
    "raw_orders_stat = stats.mannwhitneyu(sampleA, sampleB)[1]\n",
    "print(\"p-value составляет {0:.3f}\".format(raw_orders_stat)) \n",
    "if raw_orders_stat < alpha:\n",
    "    print('Отвергаем нулевую гипотезу: разница статистически значима')\n",
    "else:\n",
    "    print(\n",
    "        'Не получилось отвергнуть нулевую гипотезу, вывод о различии сделать нельзя'\n",
    "    ) \n",
    "# считаем относительный прирост среднего числа заказов группы B\n",
    "raw_relative_orders_stat = sampleB.mean() / sampleA.mean() - 1\n",
    "print(\"Относительный припрост среднего числа заказов группы В к группе А составляет {0:.3f}\".format(raw_relative_orders_stat))"
   ]
  },
  {
   "cell_type": "markdown",
   "metadata": {},
   "source": [
    "<div style=\"border:solid Gold; padding: 40px\">\n",
    "\n",
    "Значение p_value меньше 0.05, значит отклоняем нулевую гипотезу, утверждающую, что статистически значимых различий между количеством заказов на посетителя между группами нету. С высокой долей вероятности такие различия существуют.\n",
    "\n",
    "При этом прирост среднего числа заказов группы В относительно группы А составляет почти 15%"
   ]
  },
  {
   "cell_type": "markdown",
   "metadata": {},
   "source": [
    "#### Посчитаем статистическую значимость различий в среднем чеке заказа между группами"
   ]
  },
  {
   "cell_type": "markdown",
   "metadata": {},
   "source": [
    "*Сформулируем гипотезы:*   \n",
    "    \n",
    "Нулевая гипотеза (Н0) - различия в среднем чеке между группами отсутствуют  \n",
    "Альтернативная гипотеза (Н1) - различия в среднем чеке между группами присутствуют\n",
    "\n",
    "Ввиду имеющихся выбросов и ненормальность распределения данных, применим непараметрический тест Манна-Уитни.  \n",
    "Уровень статистической значимости alpha установим 0.05."
   ]
  },
  {
   "cell_type": "code",
   "execution_count": 50,
   "metadata": {},
   "outputs": [
    {
     "name": "stdout",
     "output_type": "stream",
     "text": [
      "p-value составляет 0.729\n",
      "Не получилось отвергнуть нулевую гипотезу, вывод о различии сделать нельзя\n",
      "Относительный припрост среднего чека группы В к группе А составляет 0.259\n"
     ]
    }
   ],
   "source": [
    "alpha = 0.05\n",
    "raw_revenue_stat = stats.mannwhitneyu(orders[orders['group']=='A']['revenue'], orders[orders['group']=='B']['revenue'])[1]\n",
    "print('p-value составляет {0:.3f}'.format(raw_revenue_stat))\n",
    "\n",
    "if raw_revenue_stat < alpha:\n",
    "    print('Отвергаем нулевую гипотезу: разница статистически значима')\n",
    "else:\n",
    "    print(\n",
    "        'Не получилось отвергнуть нулевую гипотезу, вывод о различии сделать нельзя')\n",
    "\n",
    "print('Относительный припрост среднего чека группы В к группе А составляет {0:.3f}'.format(orders[orders['group']=='B']['revenue'].mean()/orders[orders['group']=='A']['revenue'].mean()-1))"
   ]
  },
  {
   "cell_type": "markdown",
   "metadata": {},
   "source": [
    "<div style=\"border:solid Gold; padding: 40px\">\n",
    "\n",
    "Значение p_value значительно больше 0.05 (критического уровня статистической значимости), соответственно у нас нет достаточно оснований отклонить нулевую гипотезу. Статически значимые отличия в среднем чеке между группами отсутствуют.  \n",
    "\n",
    " При этом средний чек группы В значительно (почти 26%) выше, чем в группе А"
   ]
  },
  {
   "cell_type": "markdown",
   "metadata": {},
   "source": [
    "## Расчёт статистической значимости по «очищенным» данным <a id=\"filt_stat\"></a> "
   ]
  },
  {
   "cell_type": "markdown",
   "metadata": {},
   "source": [
    "#### Очистка данных"
   ]
  },
  {
   "cell_type": "code",
   "execution_count": 51,
   "metadata": {},
   "outputs": [
    {
     "name": "stdout",
     "output_type": "stream",
     "text": [
      "21\n"
     ]
    }
   ],
   "source": [
    "order_percentile = np.percentile(ordersByUsers['orders'], 99)\n",
    "revenue_percentile = np.percentile(orders['revenue'], 99)\n",
    "\n",
    "usersWithManyOrders = ordersByUsers[ordersByUsers['orders'] > order_percentile]['visitorId']\n",
    "\n",
    "usersWithExpensiveOrders = orders[orders['revenue'] > revenue_percentile]['visitorId']\n",
    "\n",
    "abnormalUsers = (\n",
    "    pd.concat([usersWithManyOrders, usersWithExpensiveOrders], axis=0)\n",
    "    .drop_duplicates()\n",
    "   .sort_values())\n",
    "\n",
    "print(abnormalUsers.shape[0]) "
   ]
  },
  {
   "cell_type": "markdown",
   "metadata": {},
   "source": [
    "Всего из исходных данных будет исключён 21 пользователь, для которых были обнаружены аномальные данные в количестве заказов или выручке"
   ]
  },
  {
   "cell_type": "code",
   "execution_count": 52,
   "metadata": {},
   "outputs": [],
   "source": [
    "# исключяем \"аномальных\" пользователей для того, чтобы построить графики для отфильтрофанных данных\n",
    "Forders = orders.query('visitorId not in @abnormalUsers')\n",
    "FdatesGroups = Forders[['date','group']].drop_duplicates() \n",
    "FordersAggregated = datesGroups.apply(lambda x: Forders[np.logical_and(Forders['date'] <= x['date'], Forders['group'] == x['group'])].agg({'date' : 'max', 'group' : 'max', 'transactionId' : 'nunique', 'visitorId' : 'nunique', 'revenue' : 'sum'}), axis=1).sort_values(by=['date','group'])\n",
    "FvisitorsAggregated = datesGroups.apply(lambda x: visitors[np.logical_and(visitors['date'] <= x['date'], visitors['group'] == x['group'])].agg({'date' : 'max', 'group' : 'max', 'visitors' : 'sum'}), axis=1).sort_values(by=['date','group'])\n",
    "FcumulativeData = FordersAggregated.merge(FvisitorsAggregated, left_on=['date', 'group'], right_on=['date', 'group'])\n",
    "FcumulativeData.columns = ['date', 'group', 'orders', 'buyers', 'revenue', 'visitors']\n",
    "FcumulativeRevenueA = FcumulativeData[FcumulativeData['group']=='A'][['date','revenue', 'orders']]\n",
    "FcumulativeRevenueB = FcumulativeData[FcumulativeData['group']=='B'][['date','revenue', 'orders']]\n",
    "FcumulativeOrderA = FcumulativeData[FcumulativeData['group']=='A'][['date','visitors', 'orders']]\n",
    "FcumulativeOrderB = FcumulativeData[FcumulativeData['group']=='B'][['date','visitors', 'orders']]\n"
   ]
  },
  {
   "cell_type": "markdown",
   "metadata": {},
   "source": [
    "#### Строим график кумулятивной выручки по группам по отфильтрованным данным"
   ]
  },
  {
   "cell_type": "code",
   "execution_count": 53,
   "metadata": {},
   "outputs": [
    {
     "data": {
      "image/png": "[encoded data removed]",
      "text/plain": [
       "<Figure size 1080x504 with 1 Axes>"
      ]
     },
     "metadata": {
      "needs_background": "light"
     },
     "output_type": "display_data"
    }
   ],
   "source": [
    "plt.figure(figsize=(15, 7))\n",
    "plt.plot(FcumulativeRevenueA['date'], FcumulativeRevenueA['revenue'], label='A')\n",
    "plt.plot(FcumulativeRevenueB['date'], FcumulativeRevenueB['revenue'], label='B')\n",
    "plt.title('График кумулятивной выручки по группам по очищенным данным')\n",
    "plt.xlabel('Дата')\n",
    "plt.ylabel('Накопленная выручка')\n",
    "plt.legend() \n",
    "plt.show()"
   ]
  },
  {
   "cell_type": "markdown",
   "metadata": {},
   "source": [
    "После фильтрации аномальных значений заметно \"сглаживание\" графика кумулятивной выручки"
   ]
  },
  {
   "cell_type": "markdown",
   "metadata": {},
   "source": [
    "#### Строим график относительного изменения кумулятивного среднего чека по группам по отфильтрованным данным"
   ]
  },
  {
   "cell_type": "code",
   "execution_count": 54,
   "metadata": {},
   "outputs": [
    {
     "data": {
      "image/png": "[encoded data removed]",
      "text/plain": [
       "<Figure size 1080x360 with 1 Axes>"
      ]
     },
     "metadata": {
      "needs_background": "light"
     },
     "output_type": "display_data"
    }
   ],
   "source": [
    "FmergedCumulativeRevenue = FcumulativeRevenueA.merge(FcumulativeRevenueB, left_on='date', right_on='date', how='left', suffixes=['A', 'B'])\n",
    "\n",
    "plt.figure(figsize=(15, 5))\n",
    "plt.plot(FmergedCumulativeRevenue['date'], (FmergedCumulativeRevenue['revenueB']/FmergedCumulativeRevenue['ordersB'])/(FmergedCumulativeRevenue['revenueA']/FmergedCumulativeRevenue['ordersA'])-1)\n",
    "plt.axhline(y=0, color='black', linestyle='--') \n",
    "plt.title('График относительного изменения кумулятивного среднего чека группы B к группе A по очищенным данным')\n",
    "plt.xlabel('Дата')\n",
    "plt.ylabel('Относительное изменение ср. чека группы В к группе А')\n",
    "plt.show()"
   ]
  },
  {
   "cell_type": "markdown",
   "metadata": {},
   "source": [
    "График отосительного изменения кумулятивного среднего чека группы В к группе А также подвергся серьезному изменению после фильтрации данных. Судя по нему значительных отличий в среднем чеке между группами нет"
   ]
  },
  {
   "cell_type": "markdown",
   "metadata": {},
   "source": [
    "#### Строим график относительного изменения кумулятивного среднего количества заказов на посетителя по группам по отфильтрованным данным"
   ]
  },
  {
   "cell_type": "code",
   "execution_count": 55,
   "metadata": {},
   "outputs": [
    {
     "data": {
      "image/png": "[encoded data removed]",
      "text/plain": [
       "<Figure size 1080x360 with 1 Axes>"
      ]
     },
     "metadata": {
      "needs_background": "light"
     },
     "output_type": "display_data"
    }
   ],
   "source": [
    "FmergedCumulativeOrders = cumulativeOrderA.merge(cumulativeOrderB, left_on='date', right_on='date', how='left', suffixes=['A', 'B'])\n",
    "\n",
    "plt.figure(figsize=(15, 5))\n",
    "plt.plot(FmergedCumulativeOrders['date'], (FmergedCumulativeOrders['ordersB']/FmergedCumulativeOrders['visitorsB'])/(FmergedCumulativeOrders['ordersA']/FmergedCumulativeOrders['visitorsA'])-1)\n",
    "plt.axhline(y=0, color='black', linestyle='--') \n",
    "plt.title('График относительного изменения кумулятивного среднего количества заказов на посетителя группы B к группе A по очищенным данным')\n",
    "plt.xlabel('Дата')\n",
    "plt.ylabel('Относительное изменение ср. кол-ва заказов группы В к группе А')\n",
    "plt.show()"
   ]
  },
  {
   "cell_type": "markdown",
   "metadata": {},
   "source": [
    "После фильтрации данных график относительного изменения кумулятивного среднего количества заказов на посетителя группы В к группе А не сильно изменился. По прежнему отчётливо видно, что в группе В среднее количество заказов на протяжении почти всего теста больше, чем в группе А"
   ]
  },
  {
   "cell_type": "markdown",
   "metadata": {},
   "source": [
    "#### Посчитаем различия в среднем количестве заказов на посетителя между группами (по очищенным данным)"
   ]
  },
  {
   "cell_type": "code",
   "execution_count": 56,
   "metadata": {},
   "outputs": [],
   "source": [
    "sampleAFiltered = pd.concat(\n",
    "    [\n",
    "        ordersByUsersA[\n",
    "            np.logical_not(ordersByUsersA['visitorId'].isin(abnormalUsers))\n",
    "        ]['orders'],\n",
    "        pd.Series(\n",
    "            0,\n",
    "            index=np.arange(\n",
    "                visitorsADaily['visitorsPerDateA'].sum() - len(ordersByUsersA['orders'])\n",
    "            ),\n",
    "            name='orders',\n",
    "        ),\n",
    "    ],\n",
    "    axis=0,\n",
    ")\n",
    "\n",
    "sampleBFiltered = pd.concat(\n",
    "    [\n",
    "        ordersByUsersB[\n",
    "            np.logical_not(ordersByUsersB['visitorId'].isin(abnormalUsers))\n",
    "        ]['orders'],\n",
    "        pd.Series(\n",
    "            0,\n",
    "            index=np.arange(\n",
    "                visitorsBDaily['visitorsPerDateB'].sum() - len(ordersByUsersB['orders'])\n",
    "            ),\n",
    "            name='orders',\n",
    "        ),\n",
    "    ],\n",
    "    axis=0,\n",
    ")"
   ]
  },
  {
   "cell_type": "code",
   "execution_count": 57,
   "metadata": {},
   "outputs": [
    {
     "name": "stdout",
     "output_type": "stream",
     "text": [
      "p-value составляет 0.009\n",
      "Отвергаем нулевую гипотезу: разница статистически значима\n",
      "Относительный припрост среднего количества заказов на посетителя группы В к группе А составляет 0.165\n"
     ]
    }
   ],
   "source": [
    "# критический уровень статистической значимости alpha принимаем равным 0.05\n",
    "\n",
    "alpha = 0.05\n",
    "\n",
    "filtred_orders_stat = stats.mannwhitneyu(sampleAFiltered, sampleBFiltered)[1]\n",
    "\n",
    "print(\"p-value составляет {0:.3f}\".format(filtred_orders_stat)) \n",
    "\n",
    "if filtred_orders_stat < alpha:\n",
    "    print('Отвергаем нулевую гипотезу: разница статистически значима')\n",
    "else:\n",
    "    print(\n",
    "        'Не получилось отвергнуть нулевую гипотезу, вывод о различии сделать нельзя')\n",
    "                                                           \n",
    "print('Относительный припрост среднего количества заказов на посетителя группы В к группе А составляет {0:.3f}'.format(sampleBFiltered.mean() / sampleAFiltered.mean() - 1)) \n"
   ]
  },
  {
   "cell_type": "markdown",
   "metadata": {},
   "source": [
    "<div style=\"border:solid Gold; padding: 40px\">\n",
    "\n",
    "После очистки данных значение p_value по прежнему меньше 0.05 (даже несколько снизилось), значит имеет основания для отклонения нулевой гипотезы. Статистически значимые отличия в числе заказов между группами существуют.\n",
    "\n",
    "При этом относительные различия между группой В и А после фильтрации данных незначительно выросли."
   ]
  },
  {
   "cell_type": "markdown",
   "metadata": {},
   "source": [
    "#### Посчитаем статистическую значимость различий в среднем чеке заказа между группами (по очищенным данным)"
   ]
  },
  {
   "cell_type": "code",
   "execution_count": 58,
   "metadata": {},
   "outputs": [
    {
     "name": "stdout",
     "output_type": "stream",
     "text": [
      "p-value составляет 0.958\n",
      "Не получилось отвергнуть нулевую гипотезу, вывод о различии сделать нельзя\n",
      "Относительный припрост среднего количества заказов на посетителя группы В к группе А составляет -0.014\n"
     ]
    }
   ],
   "source": [
    "filtred_revenue_stat = stats.mannwhitneyu(orders[np.logical_and(orders['group'] == 'A',\n",
    "                np.logical_not(orders['visitorId'].isin(abnormalUsers)),)]['revenue'],\n",
    "                orders[np.logical_and(orders['group'] == 'B',np.logical_not(orders['visitorId'].isin(abnormalUsers)),\n",
    "                )]['revenue'],)[1]\n",
    "\n",
    "print('p-value составляет {0:.3f}'.format(filtred_revenue_stat))\n",
    "\n",
    "if filtred_revenue_stat < alpha:\n",
    "    print('Отвергаем нулевую гипотезу: разница статистически значима')\n",
    "else:\n",
    "    print(\n",
    "        'Не получилось отвергнуть нулевую гипотезу, вывод о различии сделать нельзя')\n",
    "\n",
    "print(\"Относительный припрост среднего количества заказов на посетителя группы В к группе А составляет {0:.3f}\".format(orders[np.logical_and(orders['group'] == 'B',\n",
    "            np.logical_not(orders['visitorId'].isin(abnormalUsers)),)]['revenue'].\n",
    "            mean()/ orders[np.logical_and(orders['group'] == 'A',np.logical_not(orders['visitorId'].isin(abnormalUsers)),\n",
    "            )]['revenue'].mean()- 1)) "
   ]
  },
  {
   "cell_type": "markdown",
   "metadata": {},
   "source": [
    "<div style=\"border:solid Gold; padding: 40px\">\n",
    "\n",
    "После очистки данных значение p_value по прежнему значительно больше 0.05 и даже выросло. Соответственно у нас нет достаточно оснований отклонить нулевую гипотезу. Статически значимые отличия в среднем чеке между группами отсутствуют.  \n",
    "\n",
    "При этом относительные различия между группой В и А после фильтрации данных сильно изменились. Вместо большого перевеса (26%) у группы В мы наблюдаем практически одинаковые значения среднего чека (-1%)"
   ]
  },
  {
   "cell_type": "markdown",
   "metadata": {},
   "source": [
    "<div style=\"border:solid Gold; padding: 40px\">\n",
    "    \n",
    "## Общие выводы  <a id=\"conclusion\"></a> \n",
    "    \n",
    "**1) Приоритезация гипотез**\n",
    "    \n",
    "Исследовав представленные гипотезы двумя методами ICE и RICE, можно сделать вывод, что параметр reach (охват аудитории) значительно влияет на конечный результат. Наиболее перспективной (с двухкратным отрывом от конкруентов) из представленных является гипотеза №7 \"Добавить форму подписки на все основные страницы, чтобы собрать базу клиентов для email-рассылок\". Будучи задачей средней сложности по реализумости, её осуществление по предварительным данным должно увеличить прибыль компании. \n",
    "    \n",
    "**2) Анализ А/B теста**\n",
    "    \n",
    "На основании проведенного анализа А/В тестирования, мы получили следующие результаты:\n",
    "1. Как на \"сырых\", так и на очищенных данных присутствует статистически значимое различие в числе заказов между группами. \n",
    "2. Как на \"сырых\", так и на очищенных данных статистически значимых различий между группама по среднему чеку не обнаружено.\n",
    "3. \"Очищенный\" график различия среднего количества заказов между группами показывает, что результаты группы B вначале теста были хуже группы A, однако уже в первой трети теста наметилась тенденция к улучшению результатов группы В. В итоге резульатты группы В превзошли результаты группы А практически на протяжении всего теста. Отмечаем, что подобный результат наблюдался и на неотфильтрованных данных.\n",
    "4. \"Очищенный\" график различия среднего чека показывает, что после некоторых колебаний вначале теста, график стабилизировался у нейтрального (0) значения, что говорит об отсутствии значимых различий в среднем чеке между группами. Отметим, что до фильтрации данных можно было наблюдать значительное превосходство группы В по среднему чеку, но это из-за аномальных единичных покупок на большую сумму.\n",
    "\n",
    "Исходя из полученных результатов принимаем следующее решение:  \n",
    "**Остановить тест, признав его успешным.**\n",
    "\n",
    "Данное решение обусловленно наличим статистически значимых различий между группами по числу заказов. Несмотря на то, что средний чек не изменился, факт наличия увеличения числа заказов говорит о целесообразности внедрения протестированных измененний."
   ]
  },
  {
   "cell_type": "code",
   "execution_count": null,
   "metadata": {},
   "outputs": [],
   "source": []
  }
 ],
 "metadata": {
  "ExecuteTimeLog": [
   {
    "duration": 423,
    "start_time": "2023-01-21T12:35:15.019Z"
   },
   {
    "duration": 79,
    "start_time": "2023-01-21T12:35:15.444Z"
   },
   {
    "duration": 14,
    "start_time": "2023-01-21T12:35:15.641Z"
   },
   {
    "duration": 3,
    "start_time": "2023-01-21T12:35:21.656Z"
   },
   {
    "duration": 26,
    "start_time": "2023-01-21T12:35:22.136Z"
   },
   {
    "duration": 7,
    "start_time": "2023-01-21T12:35:22.333Z"
   },
   {
    "duration": 8,
    "start_time": "2023-01-21T12:35:27.924Z"
   },
   {
    "duration": 5,
    "start_time": "2023-01-21T12:35:53.391Z"
   },
   {
    "duration": 4,
    "start_time": "2023-01-21T12:36:00.159Z"
   },
   {
    "duration": 4,
    "start_time": "2023-01-21T12:36:04.112Z"
   },
   {
    "duration": 5,
    "start_time": "2023-01-21T12:39:17.005Z"
   },
   {
    "duration": 4,
    "start_time": "2023-01-21T12:39:21.265Z"
   },
   {
    "duration": 4,
    "start_time": "2023-01-21T12:39:24.724Z"
   },
   {
    "duration": 4,
    "start_time": "2023-01-21T12:39:34.481Z"
   },
   {
    "duration": 8,
    "start_time": "2023-01-21T12:39:43.304Z"
   },
   {
    "duration": 11,
    "start_time": "2023-01-21T12:39:47.483Z"
   },
   {
    "duration": 1141,
    "start_time": "2023-01-21T12:50:50.462Z"
   },
   {
    "duration": 1169,
    "start_time": "2023-01-21T12:52:03.060Z"
   },
   {
    "duration": 3,
    "start_time": "2023-01-21T12:53:07.213Z"
   },
   {
    "duration": 9,
    "start_time": "2023-01-21T12:53:22.370Z"
   },
   {
    "duration": 11,
    "start_time": "2023-01-21T12:53:37.011Z"
   },
   {
    "duration": 10,
    "start_time": "2023-01-21T12:54:41.474Z"
   },
   {
    "duration": 9,
    "start_time": "2023-01-21T12:55:05.345Z"
   },
   {
    "duration": 10,
    "start_time": "2023-01-21T12:55:20.395Z"
   },
   {
    "duration": 11,
    "start_time": "2023-01-21T12:56:14.523Z"
   },
   {
    "duration": 1055,
    "start_time": "2023-01-21T13:24:21.092Z"
   },
   {
    "duration": 69,
    "start_time": "2023-01-21T13:25:17.003Z"
   },
   {
    "duration": 92,
    "start_time": "2023-01-21T13:25:30.734Z"
   },
   {
    "duration": 9,
    "start_time": "2023-01-21T13:25:37.915Z"
   },
   {
    "duration": 3,
    "start_time": "2023-01-21T13:25:42.910Z"
   },
   {
    "duration": 84,
    "start_time": "2023-01-21T13:25:43.063Z"
   },
   {
    "duration": 15,
    "start_time": "2023-01-21T13:25:43.381Z"
   },
   {
    "duration": 3,
    "start_time": "2023-01-21T13:25:43.538Z"
   },
   {
    "duration": 14,
    "start_time": "2023-01-21T13:25:43.926Z"
   },
   {
    "duration": 15,
    "start_time": "2023-01-21T13:25:44.387Z"
   },
   {
    "duration": 13,
    "start_time": "2023-01-21T13:27:01.363Z"
   },
   {
    "duration": 79,
    "start_time": "2023-01-21T13:39:40.027Z"
   },
   {
    "duration": 8,
    "start_time": "2023-01-21T13:39:48.796Z"
   },
   {
    "duration": 12,
    "start_time": "2023-01-21T13:39:57.105Z"
   },
   {
    "duration": 357,
    "start_time": "2023-01-21T13:40:54.499Z"
   },
   {
    "duration": 364,
    "start_time": "2023-01-21T13:41:40.976Z"
   },
   {
    "duration": 314,
    "start_time": "2023-01-21T13:41:58.134Z"
   },
   {
    "duration": 5,
    "start_time": "2023-01-21T13:42:12.309Z"
   },
   {
    "duration": 11,
    "start_time": "2023-01-21T13:42:17.930Z"
   },
   {
    "duration": 10,
    "start_time": "2023-01-21T13:42:38.779Z"
   },
   {
    "duration": 7,
    "start_time": "2023-01-21T13:44:11.351Z"
   },
   {
    "duration": 4,
    "start_time": "2023-01-21T13:44:16.849Z"
   },
   {
    "duration": 40,
    "start_time": "2023-01-21T13:44:16.856Z"
   },
   {
    "duration": 10,
    "start_time": "2023-01-21T13:44:16.898Z"
   },
   {
    "duration": 8,
    "start_time": "2023-01-21T13:44:16.910Z"
   },
   {
    "duration": 13,
    "start_time": "2023-01-21T13:44:16.920Z"
   },
   {
    "duration": 13,
    "start_time": "2023-01-21T13:44:16.935Z"
   },
   {
    "duration": 21,
    "start_time": "2023-01-21T13:44:16.950Z"
   },
   {
    "duration": 7,
    "start_time": "2023-01-21T13:44:16.973Z"
   },
   {
    "duration": 14,
    "start_time": "2023-01-21T13:44:16.982Z"
   },
   {
    "duration": 29,
    "start_time": "2023-01-21T13:44:16.998Z"
   },
   {
    "duration": 12,
    "start_time": "2023-01-21T13:44:17.029Z"
   },
   {
    "duration": 14,
    "start_time": "2023-01-21T13:52:44.775Z"
   },
   {
    "duration": 7,
    "start_time": "2023-01-21T13:52:44.993Z"
   },
   {
    "duration": 317,
    "start_time": "2023-01-21T13:52:46.120Z"
   },
   {
    "duration": 3,
    "start_time": "2023-01-21T13:53:08.022Z"
   },
   {
    "duration": 34,
    "start_time": "2023-01-21T13:53:08.027Z"
   },
   {
    "duration": 12,
    "start_time": "2023-01-21T13:53:08.063Z"
   },
   {
    "duration": 7,
    "start_time": "2023-01-21T13:53:08.078Z"
   },
   {
    "duration": 13,
    "start_time": "2023-01-21T13:53:08.087Z"
   },
   {
    "duration": 20,
    "start_time": "2023-01-21T13:53:08.103Z"
   },
   {
    "duration": 18,
    "start_time": "2023-01-21T13:53:08.125Z"
   },
   {
    "duration": 10,
    "start_time": "2023-01-21T13:53:08.145Z"
   },
   {
    "duration": 20,
    "start_time": "2023-01-21T13:53:08.158Z"
   },
   {
    "duration": 22,
    "start_time": "2023-01-21T13:53:08.181Z"
   },
   {
    "duration": 20,
    "start_time": "2023-01-21T13:53:08.206Z"
   },
   {
    "duration": 107,
    "start_time": "2023-01-21T13:53:59.602Z"
   },
   {
    "duration": 12,
    "start_time": "2023-01-21T13:53:59.857Z"
   },
   {
    "duration": 11,
    "start_time": "2023-01-21T13:54:00.080Z"
   },
   {
    "duration": 6,
    "start_time": "2023-01-21T13:54:00.414Z"
   },
   {
    "duration": 50,
    "start_time": "2023-01-21T13:54:14.367Z"
   },
   {
    "duration": 9,
    "start_time": "2023-01-21T13:54:14.709Z"
   },
   {
    "duration": 11,
    "start_time": "2023-01-21T13:54:15.148Z"
   },
   {
    "duration": 7,
    "start_time": "2023-01-21T13:54:15.370Z"
   },
   {
    "duration": 12,
    "start_time": "2023-01-21T13:54:56.643Z"
   },
   {
    "duration": 12,
    "start_time": "2023-01-21T13:55:00.567Z"
   },
   {
    "duration": 938,
    "start_time": "2023-01-22T10:14:49.391Z"
   },
   {
    "duration": 109,
    "start_time": "2023-01-22T10:14:50.335Z"
   },
   {
    "duration": 20,
    "start_time": "2023-01-22T10:14:50.446Z"
   },
   {
    "duration": 4,
    "start_time": "2023-01-22T10:14:50.470Z"
   },
   {
    "duration": 24,
    "start_time": "2023-01-22T10:14:50.476Z"
   },
   {
    "duration": 14,
    "start_time": "2023-01-22T10:14:50.502Z"
   },
   {
    "duration": 72,
    "start_time": "2023-01-22T10:14:50.536Z"
   },
   {
    "duration": 9,
    "start_time": "2023-01-22T10:14:50.611Z"
   },
   {
    "duration": 23,
    "start_time": "2023-01-22T10:14:50.622Z"
   },
   {
    "duration": 16,
    "start_time": "2023-01-22T10:14:50.649Z"
   },
   {
    "duration": 7,
    "start_time": "2023-01-22T10:14:50.667Z"
   },
   {
    "duration": 106,
    "start_time": "2023-01-22T10:14:50.676Z"
   },
   {
    "duration": 11,
    "start_time": "2023-01-22T10:14:50.785Z"
   },
   {
    "duration": 20,
    "start_time": "2023-01-22T10:14:50.798Z"
   },
   {
    "duration": 17,
    "start_time": "2023-01-22T10:14:50.820Z"
   },
   {
    "duration": 27,
    "start_time": "2023-01-22T10:14:50.839Z"
   },
   {
    "duration": 1311,
    "start_time": "2023-01-22T10:29:17.576Z"
   },
   {
    "duration": 5,
    "start_time": "2023-01-22T10:31:35.061Z"
   },
   {
    "duration": 4,
    "start_time": "2023-01-22T10:31:40.059Z"
   },
   {
    "duration": 8,
    "start_time": "2023-01-22T10:31:54.516Z"
   },
   {
    "duration": 4,
    "start_time": "2023-01-22T10:51:51.420Z"
   },
   {
    "duration": 5,
    "start_time": "2023-01-22T10:51:58.999Z"
   },
   {
    "duration": 5,
    "start_time": "2023-01-22T10:52:36.856Z"
   },
   {
    "duration": 4,
    "start_time": "2023-01-22T10:52:46.361Z"
   },
   {
    "duration": 4,
    "start_time": "2023-01-22T10:53:10.579Z"
   },
   {
    "duration": 95,
    "start_time": "2023-01-22T11:08:35.026Z"
   },
   {
    "duration": 298,
    "start_time": "2023-01-22T11:10:03.413Z"
   },
   {
    "duration": 14,
    "start_time": "2023-01-22T11:12:43.593Z"
   },
   {
    "duration": 490,
    "start_time": "2023-01-22T11:13:00.773Z"
   },
   {
    "duration": 24,
    "start_time": "2023-01-22T11:13:05.814Z"
   },
   {
    "duration": 313,
    "start_time": "2023-01-22T11:13:22.776Z"
   },
   {
    "duration": 14,
    "start_time": "2023-01-22T11:13:36.872Z"
   },
   {
    "duration": 245,
    "start_time": "2023-01-22T11:13:59.094Z"
   },
   {
    "duration": 239,
    "start_time": "2023-01-22T11:14:05.736Z"
   },
   {
    "duration": 215,
    "start_time": "2023-01-22T11:14:41.515Z"
   },
   {
    "duration": 212,
    "start_time": "2023-01-22T11:14:49.411Z"
   },
   {
    "duration": 355,
    "start_time": "2023-01-22T11:15:47.691Z"
   },
   {
    "duration": 252,
    "start_time": "2023-01-22T11:16:04.266Z"
   },
   {
    "duration": 254,
    "start_time": "2023-01-22T11:16:39.284Z"
   },
   {
    "duration": 317,
    "start_time": "2023-01-22T11:18:31.791Z"
   },
   {
    "duration": 193,
    "start_time": "2023-01-22T11:25:00.892Z"
   },
   {
    "duration": 181,
    "start_time": "2023-01-22T11:25:41.877Z"
   },
   {
    "duration": 196,
    "start_time": "2023-01-22T11:25:46.865Z"
   },
   {
    "duration": 170,
    "start_time": "2023-01-22T11:26:01.792Z"
   },
   {
    "duration": 295,
    "start_time": "2023-01-22T11:26:08.691Z"
   },
   {
    "duration": 326,
    "start_time": "2023-01-22T11:26:26.976Z"
   },
   {
    "duration": 266,
    "start_time": "2023-01-22T11:26:31.233Z"
   },
   {
    "duration": 356,
    "start_time": "2023-01-22T11:35:51.695Z"
   },
   {
    "duration": 291,
    "start_time": "2023-01-22T11:36:24.466Z"
   },
   {
    "duration": 346,
    "start_time": "2023-01-22T11:36:49.316Z"
   },
   {
    "duration": 326,
    "start_time": "2023-01-22T11:37:40.223Z"
   },
   {
    "duration": 237,
    "start_time": "2023-01-22T11:47:47.736Z"
   },
   {
    "duration": 369,
    "start_time": "2023-01-22T11:48:02.013Z"
   },
   {
    "duration": 261,
    "start_time": "2023-01-22T11:48:24.540Z"
   },
   {
    "duration": 320,
    "start_time": "2023-01-22T12:00:21.803Z"
   },
   {
    "duration": 76,
    "start_time": "2023-01-22T12:02:58.371Z"
   },
   {
    "duration": 285,
    "start_time": "2023-01-22T12:03:09.990Z"
   },
   {
    "duration": 297,
    "start_time": "2023-01-22T12:05:37.278Z"
   },
   {
    "duration": 1110,
    "start_time": "2023-01-22T12:12:32.455Z"
   },
   {
    "duration": 1125,
    "start_time": "2023-01-22T12:12:41.222Z"
   },
   {
    "duration": 131,
    "start_time": "2023-01-22T12:13:02.516Z"
   },
   {
    "duration": 126,
    "start_time": "2023-01-22T12:13:12.761Z"
   },
   {
    "duration": 151,
    "start_time": "2023-01-22T12:14:09.261Z"
   },
   {
    "duration": 121,
    "start_time": "2023-01-22T12:14:39.064Z"
   },
   {
    "duration": 141,
    "start_time": "2023-01-22T12:15:16.758Z"
   },
   {
    "duration": 181,
    "start_time": "2023-01-22T12:27:56.012Z"
   },
   {
    "duration": 85,
    "start_time": "2023-01-22T12:28:44.977Z"
   },
   {
    "duration": 80,
    "start_time": "2023-01-22T12:28:49.521Z"
   },
   {
    "duration": 163,
    "start_time": "2023-01-22T12:28:53.320Z"
   },
   {
    "duration": 15,
    "start_time": "2023-01-22T12:32:19.381Z"
   },
   {
    "duration": 14,
    "start_time": "2023-01-22T12:32:42.122Z"
   },
   {
    "duration": 14,
    "start_time": "2023-01-22T12:32:58.429Z"
   },
   {
    "duration": 142,
    "start_time": "2023-01-22T12:34:12.389Z"
   },
   {
    "duration": 9,
    "start_time": "2023-01-22T12:34:20.921Z"
   },
   {
    "duration": 139,
    "start_time": "2023-01-22T12:38:21.165Z"
   },
   {
    "duration": 5,
    "start_time": "2023-01-22T12:41:20.540Z"
   },
   {
    "duration": 1293,
    "start_time": "2023-01-22T12:45:33.332Z"
   },
   {
    "duration": 197,
    "start_time": "2023-01-22T12:46:05.342Z"
   },
   {
    "duration": 183,
    "start_time": "2023-01-22T12:46:57.400Z"
   },
   {
    "duration": 331,
    "start_time": "2023-01-22T12:47:13.874Z"
   },
   {
    "duration": 185,
    "start_time": "2023-01-22T12:47:20.220Z"
   },
   {
    "duration": 1318,
    "start_time": "2023-01-22T12:47:35.474Z"
   },
   {
    "duration": 5,
    "start_time": "2023-01-22T12:47:41.726Z"
   },
   {
    "duration": 7,
    "start_time": "2023-01-22T12:51:16.270Z"
   },
   {
    "duration": 6,
    "start_time": "2023-01-22T12:51:23.566Z"
   },
   {
    "duration": 6,
    "start_time": "2023-01-22T12:51:35.501Z"
   },
   {
    "duration": 192,
    "start_time": "2023-01-22T12:52:23.130Z"
   },
   {
    "duration": 178,
    "start_time": "2023-01-22T12:52:54.733Z"
   },
   {
    "duration": 179,
    "start_time": "2023-01-22T12:53:16.181Z"
   },
   {
    "duration": 169,
    "start_time": "2023-01-22T12:53:24.235Z"
   },
   {
    "duration": 168,
    "start_time": "2023-01-22T12:53:32.362Z"
   },
   {
    "duration": 18,
    "start_time": "2023-01-22T13:43:38.904Z"
   },
   {
    "duration": 155,
    "start_time": "2023-01-22T13:44:00.360Z"
   },
   {
    "duration": 148,
    "start_time": "2023-01-22T14:18:05.302Z"
   },
   {
    "duration": 7,
    "start_time": "2023-01-22T14:18:05.732Z"
   },
   {
    "duration": 34,
    "start_time": "2023-01-22T14:27:03.574Z"
   },
   {
    "duration": 5,
    "start_time": "2023-01-22T14:35:28.156Z"
   },
   {
    "duration": 25,
    "start_time": "2023-01-22T14:35:31.908Z"
   },
   {
    "duration": 24,
    "start_time": "2023-01-22T14:35:46.165Z"
   },
   {
    "duration": 25,
    "start_time": "2023-01-22T14:37:15.471Z"
   },
   {
    "duration": 70,
    "start_time": "2023-01-22T14:38:09.080Z"
   },
   {
    "duration": 11,
    "start_time": "2023-01-22T14:38:40.033Z"
   },
   {
    "duration": 34,
    "start_time": "2023-01-22T14:42:15.227Z"
   },
   {
    "duration": 27,
    "start_time": "2023-01-22T14:42:28.513Z"
   },
   {
    "duration": 16,
    "start_time": "2023-01-22T14:42:34.830Z"
   },
   {
    "duration": 23,
    "start_time": "2023-01-22T14:43:03.410Z"
   },
   {
    "duration": 24,
    "start_time": "2023-01-22T14:43:22.920Z"
   },
   {
    "duration": 26,
    "start_time": "2023-01-22T14:43:30.508Z"
   },
   {
    "duration": 12,
    "start_time": "2023-01-22T14:45:37.338Z"
   },
   {
    "duration": 1173,
    "start_time": "2023-01-22T15:35:31.000Z"
   },
   {
    "duration": 92,
    "start_time": "2023-01-22T15:35:32.176Z"
   },
   {
    "duration": 12,
    "start_time": "2023-01-22T15:35:32.270Z"
   },
   {
    "duration": 6,
    "start_time": "2023-01-22T15:35:32.284Z"
   },
   {
    "duration": 16,
    "start_time": "2023-01-22T15:35:32.292Z"
   },
   {
    "duration": 12,
    "start_time": "2023-01-22T15:35:32.309Z"
   },
   {
    "duration": 80,
    "start_time": "2023-01-22T15:35:32.322Z"
   },
   {
    "duration": 8,
    "start_time": "2023-01-22T15:35:32.404Z"
   },
   {
    "duration": 24,
    "start_time": "2023-01-22T15:35:32.413Z"
   },
   {
    "duration": 13,
    "start_time": "2023-01-22T15:35:32.439Z"
   },
   {
    "duration": 8,
    "start_time": "2023-01-22T15:35:32.454Z"
   },
   {
    "duration": 9,
    "start_time": "2023-01-22T15:35:32.463Z"
   },
   {
    "duration": 111,
    "start_time": "2023-01-22T15:35:32.474Z"
   },
   {
    "duration": 8,
    "start_time": "2023-01-22T15:35:32.587Z"
   },
   {
    "duration": 19,
    "start_time": "2023-01-22T15:35:32.596Z"
   },
   {
    "duration": 11,
    "start_time": "2023-01-22T15:35:32.617Z"
   },
   {
    "duration": 13,
    "start_time": "2023-01-22T15:35:32.629Z"
   },
   {
    "duration": 269,
    "start_time": "2023-01-22T15:35:32.644Z"
   },
   {
    "duration": 318,
    "start_time": "2023-01-22T15:35:32.915Z"
   },
   {
    "duration": 218,
    "start_time": "2023-01-22T15:35:33.235Z"
   },
   {
    "duration": 396,
    "start_time": "2023-01-22T15:35:33.455Z"
   },
   {
    "duration": 293,
    "start_time": "2023-01-22T15:35:33.853Z"
   },
   {
    "duration": 317,
    "start_time": "2023-01-22T15:35:34.148Z"
   },
   {
    "duration": 8,
    "start_time": "2023-01-22T15:35:34.467Z"
   },
   {
    "duration": 170,
    "start_time": "2023-01-22T15:35:34.476Z"
   },
   {
    "duration": 5,
    "start_time": "2023-01-22T15:35:34.648Z"
   },
   {
    "duration": 15,
    "start_time": "2023-01-22T15:35:34.655Z"
   },
   {
    "duration": 212,
    "start_time": "2023-01-22T15:35:34.673Z"
   },
   {
    "duration": 12,
    "start_time": "2023-01-22T15:35:34.887Z"
   },
   {
    "duration": 148,
    "start_time": "2023-01-22T15:35:34.901Z"
   },
   {
    "duration": 24,
    "start_time": "2023-01-22T15:35:35.051Z"
   },
   {
    "duration": 25,
    "start_time": "2023-01-22T15:35:35.076Z"
   },
   {
    "duration": 141,
    "start_time": "2023-01-22T15:35:35.103Z"
   },
   {
    "duration": 3,
    "start_time": "2023-01-22T15:38:56.662Z"
   },
   {
    "duration": 57,
    "start_time": "2023-01-22T15:38:56.666Z"
   },
   {
    "duration": 19,
    "start_time": "2023-01-22T15:38:56.725Z"
   },
   {
    "duration": 21,
    "start_time": "2023-01-22T15:38:56.746Z"
   },
   {
    "duration": 41,
    "start_time": "2023-01-22T15:38:56.769Z"
   },
   {
    "duration": 17,
    "start_time": "2023-01-22T15:38:56.811Z"
   },
   {
    "duration": 19,
    "start_time": "2023-01-22T15:38:56.830Z"
   },
   {
    "duration": 9,
    "start_time": "2023-01-22T15:38:56.851Z"
   },
   {
    "duration": 14,
    "start_time": "2023-01-22T15:38:56.863Z"
   },
   {
    "duration": 12,
    "start_time": "2023-01-22T15:38:56.879Z"
   },
   {
    "duration": 6,
    "start_time": "2023-01-22T15:38:56.893Z"
   },
   {
    "duration": 8,
    "start_time": "2023-01-22T15:38:56.901Z"
   },
   {
    "duration": 34,
    "start_time": "2023-01-22T15:38:56.911Z"
   },
   {
    "duration": 8,
    "start_time": "2023-01-22T15:38:56.947Z"
   },
   {
    "duration": 22,
    "start_time": "2023-01-22T15:38:56.957Z"
   },
   {
    "duration": 14,
    "start_time": "2023-01-22T15:38:56.980Z"
   },
   {
    "duration": 12,
    "start_time": "2023-01-22T15:38:56.996Z"
   },
   {
    "duration": 308,
    "start_time": "2023-01-22T15:38:57.010Z"
   },
   {
    "duration": 229,
    "start_time": "2023-01-22T15:38:57.319Z"
   },
   {
    "duration": 303,
    "start_time": "2023-01-22T15:38:57.551Z"
   },
   {
    "duration": 316,
    "start_time": "2023-01-22T15:38:57.856Z"
   },
   {
    "duration": 240,
    "start_time": "2023-01-22T15:38:58.174Z"
   },
   {
    "duration": 318,
    "start_time": "2023-01-22T15:38:58.416Z"
   },
   {
    "duration": 6,
    "start_time": "2023-01-22T15:38:58.737Z"
   },
   {
    "duration": 156,
    "start_time": "2023-01-22T15:38:58.745Z"
   },
   {
    "duration": 5,
    "start_time": "2023-01-22T15:38:58.903Z"
   },
   {
    "duration": 8,
    "start_time": "2023-01-22T15:38:58.909Z"
   },
   {
    "duration": 197,
    "start_time": "2023-01-22T15:38:58.919Z"
   },
   {
    "duration": 4,
    "start_time": "2023-01-22T15:38:59.117Z"
   },
   {
    "duration": 136,
    "start_time": "2023-01-22T15:38:59.123Z"
   },
   {
    "duration": 22,
    "start_time": "2023-01-22T15:38:59.261Z"
   },
   {
    "duration": 20,
    "start_time": "2023-01-22T15:38:59.284Z"
   },
   {
    "duration": 14,
    "start_time": "2023-01-22T15:38:59.306Z"
   },
   {
    "duration": 1278,
    "start_time": "2023-01-23T04:02:20.538Z"
   },
   {
    "duration": 138,
    "start_time": "2023-01-23T04:02:21.818Z"
   },
   {
    "duration": 13,
    "start_time": "2023-01-23T04:02:21.957Z"
   },
   {
    "duration": 13,
    "start_time": "2023-01-23T04:02:21.972Z"
   },
   {
    "duration": 17,
    "start_time": "2023-01-23T04:02:21.986Z"
   },
   {
    "duration": 11,
    "start_time": "2023-01-23T04:02:22.005Z"
   },
   {
    "duration": 67,
    "start_time": "2023-01-23T04:02:22.017Z"
   },
   {
    "duration": 8,
    "start_time": "2023-01-23T04:02:22.085Z"
   },
   {
    "duration": 14,
    "start_time": "2023-01-23T04:02:22.094Z"
   },
   {
    "duration": 5,
    "start_time": "2023-01-23T04:02:22.111Z"
   },
   {
    "duration": 8,
    "start_time": "2023-01-23T04:02:22.118Z"
   },
   {
    "duration": 18,
    "start_time": "2023-01-23T04:02:22.127Z"
   },
   {
    "duration": 100,
    "start_time": "2023-01-23T04:02:22.147Z"
   },
   {
    "duration": 7,
    "start_time": "2023-01-23T04:02:22.249Z"
   },
   {
    "duration": 14,
    "start_time": "2023-01-23T04:02:22.258Z"
   },
   {
    "duration": 7,
    "start_time": "2023-01-23T04:02:22.274Z"
   },
   {
    "duration": 18,
    "start_time": "2023-01-23T04:02:22.282Z"
   },
   {
    "duration": 343,
    "start_time": "2023-01-23T04:02:22.302Z"
   },
   {
    "duration": 342,
    "start_time": "2023-01-23T04:02:22.647Z"
   },
   {
    "duration": 235,
    "start_time": "2023-01-23T04:02:22.991Z"
   },
   {
    "duration": 392,
    "start_time": "2023-01-23T04:02:23.229Z"
   },
   {
    "duration": 269,
    "start_time": "2023-01-23T04:02:23.623Z"
   },
   {
    "duration": 325,
    "start_time": "2023-01-23T04:02:23.894Z"
   },
   {
    "duration": 17,
    "start_time": "2023-01-23T04:02:24.221Z"
   },
   {
    "duration": 161,
    "start_time": "2023-01-23T04:02:24.239Z"
   },
   {
    "duration": 6,
    "start_time": "2023-01-23T04:02:24.402Z"
   },
   {
    "duration": 28,
    "start_time": "2023-01-23T04:02:24.410Z"
   },
   {
    "duration": 185,
    "start_time": "2023-01-23T04:02:24.442Z"
   },
   {
    "duration": 13,
    "start_time": "2023-01-23T04:02:24.628Z"
   },
   {
    "duration": 143,
    "start_time": "2023-01-23T04:02:24.642Z"
   },
   {
    "duration": 25,
    "start_time": "2023-01-23T04:02:24.787Z"
   },
   {
    "duration": 28,
    "start_time": "2023-01-23T04:02:24.814Z"
   },
   {
    "duration": 112,
    "start_time": "2023-01-23T04:02:24.844Z"
   },
   {
    "duration": 17,
    "start_time": "2023-01-23T04:10:50.828Z"
   },
   {
    "duration": 15,
    "start_time": "2023-01-23T04:11:22.728Z"
   },
   {
    "duration": 18,
    "start_time": "2023-01-23T04:11:35.767Z"
   },
   {
    "duration": 72,
    "start_time": "2023-01-23T04:12:57.348Z"
   },
   {
    "duration": 1151,
    "start_time": "2023-01-23T04:13:12.306Z"
   },
   {
    "duration": 8,
    "start_time": "2023-01-23T04:13:28.143Z"
   },
   {
    "duration": 8,
    "start_time": "2023-01-23T04:14:17.192Z"
   },
   {
    "duration": 9,
    "start_time": "2023-01-23T04:14:29.058Z"
   },
   {
    "duration": 8,
    "start_time": "2023-01-23T04:14:36.761Z"
   },
   {
    "duration": 1319,
    "start_time": "2023-01-23T04:15:17.188Z"
   },
   {
    "duration": 5,
    "start_time": "2023-01-23T04:15:26.314Z"
   },
   {
    "duration": 6,
    "start_time": "2023-01-23T04:15:44.013Z"
   },
   {
    "duration": 11,
    "start_time": "2023-01-23T04:16:07.494Z"
   },
   {
    "duration": 1249,
    "start_time": "2023-01-23T04:16:14.668Z"
   },
   {
    "duration": 7,
    "start_time": "2023-01-23T04:16:25.092Z"
   },
   {
    "duration": 6,
    "start_time": "2023-01-23T04:17:08.857Z"
   },
   {
    "duration": 6,
    "start_time": "2023-01-23T04:17:17.368Z"
   },
   {
    "duration": 6,
    "start_time": "2023-01-23T04:18:09.948Z"
   },
   {
    "duration": 8,
    "start_time": "2023-01-23T04:18:39.358Z"
   },
   {
    "duration": 81,
    "start_time": "2023-01-23T04:18:51.663Z"
   },
   {
    "duration": 7,
    "start_time": "2023-01-23T04:19:14.827Z"
   },
   {
    "duration": 1081,
    "start_time": "2023-01-23T04:19:32.660Z"
   },
   {
    "duration": 8,
    "start_time": "2023-01-23T04:19:41.011Z"
   },
   {
    "duration": 14,
    "start_time": "2023-01-23T04:20:01.270Z"
   },
   {
    "duration": 9,
    "start_time": "2023-01-23T04:20:41.032Z"
   },
   {
    "duration": 7,
    "start_time": "2023-01-23T04:20:46.651Z"
   },
   {
    "duration": 8,
    "start_time": "2023-01-23T04:20:51.559Z"
   },
   {
    "duration": 8,
    "start_time": "2023-01-23T04:20:57.116Z"
   },
   {
    "duration": 6,
    "start_time": "2023-01-23T04:24:53.832Z"
   },
   {
    "duration": 8,
    "start_time": "2023-01-23T04:24:57.949Z"
   },
   {
    "duration": 6,
    "start_time": "2023-01-23T04:25:02.214Z"
   },
   {
    "duration": 7,
    "start_time": "2023-01-23T04:25:08.366Z"
   },
   {
    "duration": 3,
    "start_time": "2023-01-23T04:25:14.687Z"
   },
   {
    "duration": 4,
    "start_time": "2023-01-23T04:25:23.036Z"
   },
   {
    "duration": 6,
    "start_time": "2023-01-23T04:25:31.794Z"
   },
   {
    "duration": 4,
    "start_time": "2023-01-23T04:25:57.538Z"
   },
   {
    "duration": 5,
    "start_time": "2023-01-23T04:26:21.386Z"
   },
   {
    "duration": 8,
    "start_time": "2023-01-23T04:26:29.053Z"
   },
   {
    "duration": 4,
    "start_time": "2023-01-23T04:26:30.340Z"
   },
   {
    "duration": 4,
    "start_time": "2023-01-23T04:27:12.144Z"
   },
   {
    "duration": 5,
    "start_time": "2023-01-23T04:27:21.707Z"
   },
   {
    "duration": 4,
    "start_time": "2023-01-23T04:27:33.372Z"
   },
   {
    "duration": 7,
    "start_time": "2023-01-23T04:27:50.344Z"
   },
   {
    "duration": 5,
    "start_time": "2023-01-23T04:27:51.539Z"
   },
   {
    "duration": 3,
    "start_time": "2023-01-23T04:27:52.114Z"
   },
   {
    "duration": 8,
    "start_time": "2023-01-23T04:28:15.711Z"
   },
   {
    "duration": 5,
    "start_time": "2023-01-23T04:28:21.462Z"
   },
   {
    "duration": 9,
    "start_time": "2023-01-23T04:28:55.746Z"
   },
   {
    "duration": 1125,
    "start_time": "2023-01-23T04:32:56.174Z"
   },
   {
    "duration": 8,
    "start_time": "2023-01-23T04:33:51.591Z"
   },
   {
    "duration": 39,
    "start_time": "2023-01-23T04:34:36.868Z"
   },
   {
    "duration": 1367,
    "start_time": "2023-01-23T04:38:01.561Z"
   },
   {
    "duration": 15,
    "start_time": "2023-01-23T04:38:40.604Z"
   },
   {
    "duration": 16,
    "start_time": "2023-01-23T04:41:10.311Z"
   },
   {
    "duration": 12,
    "start_time": "2023-01-23T04:41:30.892Z"
   },
   {
    "duration": 9,
    "start_time": "2023-01-23T04:41:38.573Z"
   },
   {
    "duration": 6,
    "start_time": "2023-01-23T04:41:43.383Z"
   },
   {
    "duration": 9,
    "start_time": "2023-01-23T04:42:21.339Z"
   },
   {
    "duration": 11,
    "start_time": "2023-01-23T04:42:23.451Z"
   },
   {
    "duration": 7,
    "start_time": "2023-01-23T04:42:45.356Z"
   },
   {
    "duration": 3,
    "start_time": "2023-01-23T04:52:48.905Z"
   },
   {
    "duration": 31,
    "start_time": "2023-01-23T04:52:48.910Z"
   },
   {
    "duration": 11,
    "start_time": "2023-01-23T04:52:48.944Z"
   },
   {
    "duration": 23,
    "start_time": "2023-01-23T04:52:48.957Z"
   },
   {
    "duration": 26,
    "start_time": "2023-01-23T04:52:48.983Z"
   },
   {
    "duration": 20,
    "start_time": "2023-01-23T04:52:49.011Z"
   },
   {
    "duration": 16,
    "start_time": "2023-01-23T04:52:49.038Z"
   },
   {
    "duration": 7,
    "start_time": "2023-01-23T04:52:49.056Z"
   },
   {
    "duration": 25,
    "start_time": "2023-01-23T04:52:49.065Z"
   },
   {
    "duration": 18,
    "start_time": "2023-01-23T04:52:49.092Z"
   },
   {
    "duration": 11,
    "start_time": "2023-01-23T04:52:49.113Z"
   },
   {
    "duration": 12,
    "start_time": "2023-01-23T04:52:49.126Z"
   },
   {
    "duration": 47,
    "start_time": "2023-01-23T04:52:49.140Z"
   },
   {
    "duration": 9,
    "start_time": "2023-01-23T04:52:49.188Z"
   },
   {
    "duration": 22,
    "start_time": "2023-01-23T04:52:49.198Z"
   },
   {
    "duration": 14,
    "start_time": "2023-01-23T04:52:49.222Z"
   },
   {
    "duration": 26,
    "start_time": "2023-01-23T04:52:49.238Z"
   },
   {
    "duration": 310,
    "start_time": "2023-01-23T04:52:49.266Z"
   },
   {
    "duration": 253,
    "start_time": "2023-01-23T04:52:49.578Z"
   },
   {
    "duration": 323,
    "start_time": "2023-01-23T04:52:49.833Z"
   },
   {
    "duration": 374,
    "start_time": "2023-01-23T04:52:50.158Z"
   },
   {
    "duration": 282,
    "start_time": "2023-01-23T04:52:50.534Z"
   },
   {
    "duration": 363,
    "start_time": "2023-01-23T04:52:50.818Z"
   },
   {
    "duration": 7,
    "start_time": "2023-01-23T04:52:51.183Z"
   },
   {
    "duration": 180,
    "start_time": "2023-01-23T04:52:51.192Z"
   },
   {
    "duration": 5,
    "start_time": "2023-01-23T04:52:51.374Z"
   },
   {
    "duration": 14,
    "start_time": "2023-01-23T04:52:51.381Z"
   },
   {
    "duration": 20,
    "start_time": "2023-01-23T04:52:51.396Z"
   },
   {
    "duration": 196,
    "start_time": "2023-01-23T04:52:51.420Z"
   },
   {
    "duration": 6,
    "start_time": "2023-01-23T04:52:51.618Z"
   },
   {
    "duration": 186,
    "start_time": "2023-01-23T04:52:51.625Z"
   },
   {
    "duration": 43,
    "start_time": "2023-01-23T04:52:51.813Z"
   },
   {
    "duration": 11,
    "start_time": "2023-01-23T04:52:51.858Z"
   },
   {
    "duration": 40,
    "start_time": "2023-01-23T04:52:51.871Z"
   },
   {
    "duration": 29,
    "start_time": "2023-01-23T04:52:51.913Z"
   },
   {
    "duration": 58,
    "start_time": "2023-01-23T04:52:51.944Z"
   },
   {
    "duration": 15,
    "start_time": "2023-01-23T04:52:52.005Z"
   },
   {
    "duration": 58,
    "start_time": "2023-01-23T04:52:52.022Z"
   },
   {
    "duration": 14,
    "start_time": "2023-01-23T04:52:52.082Z"
   },
   {
    "duration": 11,
    "start_time": "2023-01-23T05:08:26.509Z"
   },
   {
    "duration": 10,
    "start_time": "2023-01-23T05:08:30.930Z"
   },
   {
    "duration": 9,
    "start_time": "2023-01-23T05:08:31.101Z"
   },
   {
    "duration": 9,
    "start_time": "2023-01-23T05:08:44.496Z"
   },
   {
    "duration": 8,
    "start_time": "2023-01-23T05:08:44.672Z"
   },
   {
    "duration": 7,
    "start_time": "2023-01-23T05:08:44.812Z"
   },
   {
    "duration": 9,
    "start_time": "2023-01-23T05:10:35.585Z"
   },
   {
    "duration": 4,
    "start_time": "2023-01-23T09:13:59.356Z"
   },
   {
    "duration": 6,
    "start_time": "2023-01-23T09:14:17.160Z"
   },
   {
    "duration": 7,
    "start_time": "2023-01-23T09:14:37.484Z"
   },
   {
    "duration": 6,
    "start_time": "2023-01-23T09:14:44.888Z"
   },
   {
    "duration": 4,
    "start_time": "2023-01-23T09:14:49.217Z"
   },
   {
    "duration": 4,
    "start_time": "2023-01-23T09:14:54.752Z"
   },
   {
    "duration": 5,
    "start_time": "2023-01-23T09:14:58.958Z"
   },
   {
    "duration": 11,
    "start_time": "2023-01-23T09:22:41.461Z"
   },
   {
    "duration": 3,
    "start_time": "2023-01-23T09:23:01.350Z"
   },
   {
    "duration": 109,
    "start_time": "2023-01-23T09:23:14.553Z"
   },
   {
    "duration": 7,
    "start_time": "2023-01-23T09:23:14.930Z"
   },
   {
    "duration": 7,
    "start_time": "2023-01-23T09:23:41.156Z"
   },
   {
    "duration": 6,
    "start_time": "2023-01-23T09:23:51.537Z"
   },
   {
    "duration": 6,
    "start_time": "2023-01-23T09:23:51.987Z"
   },
   {
    "duration": 154,
    "start_time": "2023-01-23T09:24:11.678Z"
   },
   {
    "duration": 8,
    "start_time": "2023-01-23T09:27:42.546Z"
   },
   {
    "duration": 137,
    "start_time": "2023-01-23T09:28:04.678Z"
   },
   {
    "duration": 15,
    "start_time": "2023-01-23T09:28:38.455Z"
   },
   {
    "duration": 147,
    "start_time": "2023-01-23T09:29:07.167Z"
   },
   {
    "duration": 7,
    "start_time": "2023-01-23T09:46:11.294Z"
   },
   {
    "duration": 10,
    "start_time": "2023-01-23T09:46:23.317Z"
   },
   {
    "duration": 81,
    "start_time": "2023-01-23T09:49:13.898Z"
   },
   {
    "duration": 4,
    "start_time": "2023-01-23T10:04:11.088Z"
   },
   {
    "duration": 5,
    "start_time": "2023-01-23T10:04:50.911Z"
   },
   {
    "duration": 5,
    "start_time": "2023-01-23T10:05:34.005Z"
   },
   {
    "duration": 11,
    "start_time": "2023-01-23T10:05:38.908Z"
   },
   {
    "duration": 5,
    "start_time": "2023-01-23T10:05:39.067Z"
   },
   {
    "duration": 367,
    "start_time": "2023-01-23T10:05:39.435Z"
   },
   {
    "duration": 0,
    "start_time": "2023-01-23T10:05:39.804Z"
   },
   {
    "duration": 8,
    "start_time": "2023-01-23T10:05:40.076Z"
   },
   {
    "duration": 8,
    "start_time": "2023-01-23T10:05:40.773Z"
   },
   {
    "duration": 6,
    "start_time": "2023-01-23T10:05:40.882Z"
   },
   {
    "duration": 6,
    "start_time": "2023-01-23T10:05:41.432Z"
   },
   {
    "duration": 4,
    "start_time": "2023-01-23T10:05:57.717Z"
   },
   {
    "duration": 8,
    "start_time": "2023-01-23T10:06:01.284Z"
   },
   {
    "duration": 6,
    "start_time": "2023-01-23T10:06:01.844Z"
   },
   {
    "duration": 6,
    "start_time": "2023-01-23T10:06:08.913Z"
   },
   {
    "duration": 7,
    "start_time": "2023-01-23T10:06:17.753Z"
   },
   {
    "duration": 1158,
    "start_time": "2023-01-23T10:06:56.050Z"
   },
   {
    "duration": 83,
    "start_time": "2023-01-23T10:06:57.210Z"
   },
   {
    "duration": 13,
    "start_time": "2023-01-23T10:06:57.294Z"
   },
   {
    "duration": 30,
    "start_time": "2023-01-23T10:06:57.310Z"
   },
   {
    "duration": 47,
    "start_time": "2023-01-23T10:06:57.342Z"
   },
   {
    "duration": 31,
    "start_time": "2023-01-23T10:06:57.391Z"
   },
   {
    "duration": 29,
    "start_time": "2023-01-23T10:06:57.424Z"
   },
   {
    "duration": 22,
    "start_time": "2023-01-23T10:06:57.455Z"
   },
   {
    "duration": 33,
    "start_time": "2023-01-23T10:06:57.479Z"
   },
   {
    "duration": 22,
    "start_time": "2023-01-23T10:06:57.515Z"
   },
   {
    "duration": 28,
    "start_time": "2023-01-23T10:06:57.539Z"
   },
   {
    "duration": 24,
    "start_time": "2023-01-23T10:06:57.569Z"
   },
   {
    "duration": 52,
    "start_time": "2023-01-23T10:06:57.595Z"
   },
   {
    "duration": 10,
    "start_time": "2023-01-23T10:06:57.649Z"
   },
   {
    "duration": 43,
    "start_time": "2023-01-23T10:06:57.662Z"
   },
   {
    "duration": 24,
    "start_time": "2023-01-23T10:06:57.708Z"
   },
   {
    "duration": 38,
    "start_time": "2023-01-23T10:06:57.734Z"
   },
   {
    "duration": 20,
    "start_time": "2023-01-23T10:06:57.775Z"
   },
   {
    "duration": 30,
    "start_time": "2023-01-23T10:06:57.797Z"
   },
   {
    "duration": 16,
    "start_time": "2023-01-23T10:06:57.829Z"
   },
   {
    "duration": 17,
    "start_time": "2023-01-23T10:06:57.848Z"
   },
   {
    "duration": 29,
    "start_time": "2023-01-23T10:06:57.867Z"
   },
   {
    "duration": 25,
    "start_time": "2023-01-23T10:06:57.898Z"
   },
   {
    "duration": 31,
    "start_time": "2023-01-23T10:06:57.926Z"
   },
   {
    "duration": 19,
    "start_time": "2023-01-23T10:06:57.959Z"
   },
   {
    "duration": 358,
    "start_time": "2023-01-23T10:06:57.980Z"
   },
   {
    "duration": 340,
    "start_time": "2023-01-23T10:06:58.340Z"
   },
   {
    "duration": 264,
    "start_time": "2023-01-23T10:06:58.684Z"
   },
   {
    "duration": 351,
    "start_time": "2023-01-23T10:06:58.950Z"
   },
   {
    "duration": 291,
    "start_time": "2023-01-23T10:06:59.303Z"
   },
   {
    "duration": 380,
    "start_time": "2023-01-23T10:06:59.596Z"
   },
   {
    "duration": 7,
    "start_time": "2023-01-23T10:06:59.978Z"
   },
   {
    "duration": 171,
    "start_time": "2023-01-23T10:06:59.986Z"
   },
   {
    "duration": 6,
    "start_time": "2023-01-23T10:07:00.158Z"
   },
   {
    "duration": 44,
    "start_time": "2023-01-23T10:07:00.165Z"
   },
   {
    "duration": 37,
    "start_time": "2023-01-23T10:07:00.211Z"
   },
   {
    "duration": 237,
    "start_time": "2023-01-23T10:07:00.250Z"
   },
   {
    "duration": 5,
    "start_time": "2023-01-23T10:07:00.488Z"
   },
   {
    "duration": 190,
    "start_time": "2023-01-23T10:07:00.495Z"
   },
   {
    "duration": 52,
    "start_time": "2023-01-23T10:07:00.687Z"
   },
   {
    "duration": 24,
    "start_time": "2023-01-23T10:07:00.741Z"
   },
   {
    "duration": 53,
    "start_time": "2023-01-23T10:07:00.767Z"
   },
   {
    "duration": 55,
    "start_time": "2023-01-23T10:07:00.822Z"
   },
   {
    "duration": 54,
    "start_time": "2023-01-23T10:07:00.879Z"
   },
   {
    "duration": 21,
    "start_time": "2023-01-23T10:07:00.936Z"
   },
   {
    "duration": 7,
    "start_time": "2023-01-23T10:09:25.946Z"
   },
   {
    "duration": 7,
    "start_time": "2023-01-23T10:09:34.825Z"
   },
   {
    "duration": 10,
    "start_time": "2023-01-23T10:09:41.545Z"
   },
   {
    "duration": 8,
    "start_time": "2023-01-23T10:09:54.016Z"
   },
   {
    "duration": 6,
    "start_time": "2023-01-23T10:10:02.128Z"
   },
   {
    "duration": 5,
    "start_time": "2023-01-23T10:10:06.463Z"
   },
   {
    "duration": 252,
    "start_time": "2023-01-23T15:34:16.827Z"
   },
   {
    "duration": 11,
    "start_time": "2023-01-23T15:44:57.565Z"
   },
   {
    "duration": 130,
    "start_time": "2023-01-23T16:12:40.185Z"
   },
   {
    "duration": 5,
    "start_time": "2023-01-23T16:13:38.345Z"
   },
   {
    "duration": 6,
    "start_time": "2023-01-23T16:13:48.873Z"
   },
   {
    "duration": 5,
    "start_time": "2023-01-23T16:14:55.711Z"
   },
   {
    "duration": 199,
    "start_time": "2023-01-23T16:16:52.010Z"
   },
   {
    "duration": 274,
    "start_time": "2023-01-23T16:17:00.578Z"
   },
   {
    "duration": 28,
    "start_time": "2023-01-23T16:33:24.842Z"
   },
   {
    "duration": 6,
    "start_time": "2023-01-23T16:51:54.705Z"
   },
   {
    "duration": 9,
    "start_time": "2023-01-23T16:56:24.529Z"
   },
   {
    "duration": 24,
    "start_time": "2023-01-23T17:02:01.391Z"
   },
   {
    "duration": 9,
    "start_time": "2023-01-23T17:03:47.273Z"
   },
   {
    "duration": 22,
    "start_time": "2023-01-23T17:03:47.663Z"
   },
   {
    "duration": 14,
    "start_time": "2023-01-23T17:03:49.079Z"
   },
   {
    "duration": 75,
    "start_time": "2023-01-24T04:07:58.165Z"
   },
   {
    "duration": 1626,
    "start_time": "2023-01-24T04:08:03.580Z"
   },
   {
    "duration": 136,
    "start_time": "2023-01-24T04:08:05.209Z"
   },
   {
    "duration": 19,
    "start_time": "2023-01-24T04:08:05.348Z"
   },
   {
    "duration": 9,
    "start_time": "2023-01-24T04:08:05.369Z"
   },
   {
    "duration": 25,
    "start_time": "2023-01-24T04:08:05.380Z"
   },
   {
    "duration": 32,
    "start_time": "2023-01-24T04:08:05.408Z"
   },
   {
    "duration": 62,
    "start_time": "2023-01-24T04:08:05.443Z"
   },
   {
    "duration": 10,
    "start_time": "2023-01-24T04:08:05.508Z"
   },
   {
    "duration": 22,
    "start_time": "2023-01-24T04:08:05.520Z"
   },
   {
    "duration": 15,
    "start_time": "2023-01-24T04:08:05.546Z"
   },
   {
    "duration": 13,
    "start_time": "2023-01-24T04:08:05.562Z"
   },
   {
    "duration": 24,
    "start_time": "2023-01-24T04:08:05.577Z"
   },
   {
    "duration": 101,
    "start_time": "2023-01-24T04:08:05.604Z"
   },
   {
    "duration": 12,
    "start_time": "2023-01-24T04:08:05.708Z"
   },
   {
    "duration": 21,
    "start_time": "2023-01-24T04:08:05.723Z"
   },
   {
    "duration": 13,
    "start_time": "2023-01-24T04:08:05.746Z"
   },
   {
    "duration": 20,
    "start_time": "2023-01-24T04:08:05.761Z"
   },
   {
    "duration": 16,
    "start_time": "2023-01-24T04:08:05.783Z"
   },
   {
    "duration": 20,
    "start_time": "2023-01-24T04:08:05.801Z"
   },
   {
    "duration": 20,
    "start_time": "2023-01-24T04:08:05.823Z"
   },
   {
    "duration": 18,
    "start_time": "2023-01-24T04:08:05.845Z"
   },
   {
    "duration": 20,
    "start_time": "2023-01-24T04:08:05.865Z"
   },
   {
    "duration": 14,
    "start_time": "2023-01-24T04:08:05.887Z"
   },
   {
    "duration": 26,
    "start_time": "2023-01-24T04:08:05.903Z"
   },
   {
    "duration": 34,
    "start_time": "2023-01-24T04:08:05.931Z"
   },
   {
    "duration": 19,
    "start_time": "2023-01-24T04:08:05.967Z"
   },
   {
    "duration": 411,
    "start_time": "2023-01-24T04:08:05.988Z"
   },
   {
    "duration": 9,
    "start_time": "2023-01-24T04:08:06.404Z"
   },
   {
    "duration": 0,
    "start_time": "2023-01-24T04:08:08.804Z"
   },
   {
    "duration": 0,
    "start_time": "2023-01-24T04:08:08.805Z"
   },
   {
    "duration": 0,
    "start_time": "2023-01-24T04:08:08.807Z"
   },
   {
    "duration": 0,
    "start_time": "2023-01-24T04:08:08.840Z"
   },
   {
    "duration": 0,
    "start_time": "2023-01-24T04:08:08.842Z"
   },
   {
    "duration": 0,
    "start_time": "2023-01-24T04:08:08.844Z"
   },
   {
    "duration": 0,
    "start_time": "2023-01-24T04:08:08.846Z"
   },
   {
    "duration": 0,
    "start_time": "2023-01-24T04:08:08.847Z"
   },
   {
    "duration": 0,
    "start_time": "2023-01-24T04:08:08.849Z"
   },
   {
    "duration": 0,
    "start_time": "2023-01-24T04:08:08.850Z"
   },
   {
    "duration": 1,
    "start_time": "2023-01-24T04:08:08.851Z"
   },
   {
    "duration": 0,
    "start_time": "2023-01-24T04:08:08.852Z"
   },
   {
    "duration": 0,
    "start_time": "2023-01-24T04:08:08.855Z"
   },
   {
    "duration": 0,
    "start_time": "2023-01-24T04:08:08.856Z"
   },
   {
    "duration": 0,
    "start_time": "2023-01-24T04:08:08.858Z"
   },
   {
    "duration": 0,
    "start_time": "2023-01-24T04:08:08.859Z"
   },
   {
    "duration": 0,
    "start_time": "2023-01-24T04:08:08.861Z"
   },
   {
    "duration": 0,
    "start_time": "2023-01-24T04:08:08.862Z"
   },
   {
    "duration": 0,
    "start_time": "2023-01-24T04:08:08.864Z"
   },
   {
    "duration": 0,
    "start_time": "2023-01-24T04:08:08.865Z"
   },
   {
    "duration": 0,
    "start_time": "2023-01-24T04:08:08.867Z"
   },
   {
    "duration": 0,
    "start_time": "2023-01-24T04:08:08.871Z"
   },
   {
    "duration": 0,
    "start_time": "2023-01-24T04:08:08.873Z"
   },
   {
    "duration": 0,
    "start_time": "2023-01-24T04:08:08.874Z"
   },
   {
    "duration": 0,
    "start_time": "2023-01-24T04:08:08.876Z"
   },
   {
    "duration": 0,
    "start_time": "2023-01-24T04:08:08.878Z"
   },
   {
    "duration": 0,
    "start_time": "2023-01-24T04:08:08.880Z"
   },
   {
    "duration": 0,
    "start_time": "2023-01-24T04:08:08.880Z"
   },
   {
    "duration": 0,
    "start_time": "2023-01-24T04:08:08.883Z"
   },
   {
    "duration": 0,
    "start_time": "2023-01-24T04:08:08.884Z"
   },
   {
    "duration": 0,
    "start_time": "2023-01-24T04:08:08.885Z"
   },
   {
    "duration": 0,
    "start_time": "2023-01-24T04:08:08.886Z"
   },
   {
    "duration": 0,
    "start_time": "2023-01-24T04:08:08.886Z"
   },
   {
    "duration": 0,
    "start_time": "2023-01-24T04:08:08.939Z"
   },
   {
    "duration": 0,
    "start_time": "2023-01-24T04:08:08.941Z"
   },
   {
    "duration": 0,
    "start_time": "2023-01-24T04:08:08.944Z"
   },
   {
    "duration": 1,
    "start_time": "2023-01-24T04:08:08.945Z"
   },
   {
    "duration": 0,
    "start_time": "2023-01-24T04:08:08.951Z"
   },
   {
    "duration": 0,
    "start_time": "2023-01-24T04:08:08.953Z"
   },
   {
    "duration": 0,
    "start_time": "2023-01-24T04:08:08.955Z"
   },
   {
    "duration": 0,
    "start_time": "2023-01-24T04:08:08.956Z"
   },
   {
    "duration": 0,
    "start_time": "2023-01-24T04:08:08.958Z"
   },
   {
    "duration": 0,
    "start_time": "2023-01-24T04:08:08.960Z"
   },
   {
    "duration": 0,
    "start_time": "2023-01-24T04:08:08.961Z"
   },
   {
    "duration": 0,
    "start_time": "2023-01-24T04:08:08.963Z"
   },
   {
    "duration": 0,
    "start_time": "2023-01-24T04:08:08.964Z"
   },
   {
    "duration": 7,
    "start_time": "2023-01-24T04:09:58.824Z"
   },
   {
    "duration": 60,
    "start_time": "2023-01-24T04:09:58.839Z"
   },
   {
    "duration": 16,
    "start_time": "2023-01-24T04:09:58.901Z"
   },
   {
    "duration": 35,
    "start_time": "2023-01-24T04:09:58.919Z"
   },
   {
    "duration": 29,
    "start_time": "2023-01-24T04:09:58.957Z"
   },
   {
    "duration": 21,
    "start_time": "2023-01-24T04:09:58.988Z"
   },
   {
    "duration": 16,
    "start_time": "2023-01-24T04:09:59.012Z"
   },
   {
    "duration": 9,
    "start_time": "2023-01-24T04:09:59.031Z"
   },
   {
    "duration": 30,
    "start_time": "2023-01-24T04:09:59.042Z"
   },
   {
    "duration": 24,
    "start_time": "2023-01-24T04:09:59.074Z"
   },
   {
    "duration": 40,
    "start_time": "2023-01-24T04:09:59.102Z"
   },
   {
    "duration": 29,
    "start_time": "2023-01-24T04:09:59.145Z"
   },
   {
    "duration": 49,
    "start_time": "2023-01-24T04:09:59.177Z"
   },
   {
    "duration": 13,
    "start_time": "2023-01-24T04:09:59.229Z"
   },
   {
    "duration": 41,
    "start_time": "2023-01-24T04:09:59.245Z"
   },
   {
    "duration": 29,
    "start_time": "2023-01-24T04:09:59.289Z"
   },
   {
    "duration": 31,
    "start_time": "2023-01-24T04:09:59.320Z"
   },
   {
    "duration": 5,
    "start_time": "2023-01-24T04:09:59.354Z"
   },
   {
    "duration": 16,
    "start_time": "2023-01-24T04:09:59.362Z"
   },
   {
    "duration": 27,
    "start_time": "2023-01-24T04:09:59.381Z"
   },
   {
    "duration": 11,
    "start_time": "2023-01-24T04:09:59.410Z"
   },
   {
    "duration": 20,
    "start_time": "2023-01-24T04:09:59.423Z"
   },
   {
    "duration": 12,
    "start_time": "2023-01-24T04:09:59.446Z"
   },
   {
    "duration": 9,
    "start_time": "2023-01-24T04:09:59.461Z"
   },
   {
    "duration": 14,
    "start_time": "2023-01-24T04:09:59.473Z"
   },
   {
    "duration": 18,
    "start_time": "2023-01-24T04:09:59.491Z"
   },
   {
    "duration": 535,
    "start_time": "2023-01-24T04:09:59.512Z"
   },
   {
    "duration": 10,
    "start_time": "2023-01-24T04:10:00.050Z"
   },
   {
    "duration": 401,
    "start_time": "2023-01-24T04:10:00.067Z"
   },
   {
    "duration": 372,
    "start_time": "2023-01-24T04:10:00.471Z"
   },
   {
    "duration": 421,
    "start_time": "2023-01-24T04:10:00.845Z"
   },
   {
    "duration": 511,
    "start_time": "2023-01-24T04:10:01.269Z"
   },
   {
    "duration": 461,
    "start_time": "2023-01-24T04:10:01.782Z"
   },
   {
    "duration": 14,
    "start_time": "2023-01-24T04:10:02.245Z"
   },
   {
    "duration": 0,
    "start_time": "2023-01-24T04:10:02.262Z"
   },
   {
    "duration": 0,
    "start_time": "2023-01-24T04:10:02.263Z"
   },
   {
    "duration": 0,
    "start_time": "2023-01-24T04:10:02.265Z"
   },
   {
    "duration": 0,
    "start_time": "2023-01-24T04:10:02.266Z"
   },
   {
    "duration": 0,
    "start_time": "2023-01-24T04:10:02.269Z"
   },
   {
    "duration": 0,
    "start_time": "2023-01-24T04:10:02.270Z"
   },
   {
    "duration": 0,
    "start_time": "2023-01-24T04:10:02.272Z"
   },
   {
    "duration": 0,
    "start_time": "2023-01-24T04:10:02.273Z"
   },
   {
    "duration": 0,
    "start_time": "2023-01-24T04:10:02.274Z"
   },
   {
    "duration": 0,
    "start_time": "2023-01-24T04:10:02.276Z"
   },
   {
    "duration": 0,
    "start_time": "2023-01-24T04:10:02.278Z"
   },
   {
    "duration": 0,
    "start_time": "2023-01-24T04:10:02.279Z"
   },
   {
    "duration": 10,
    "start_time": "2023-01-24T04:15:10.212Z"
   },
   {
    "duration": 4,
    "start_time": "2023-01-24T04:16:22.635Z"
   },
   {
    "duration": 65,
    "start_time": "2023-01-24T04:16:22.641Z"
   },
   {
    "duration": 16,
    "start_time": "2023-01-24T04:16:22.708Z"
   },
   {
    "duration": 63,
    "start_time": "2023-01-24T04:16:22.726Z"
   },
   {
    "duration": 36,
    "start_time": "2023-01-24T04:16:22.791Z"
   },
   {
    "duration": 32,
    "start_time": "2023-01-24T04:16:22.831Z"
   },
   {
    "duration": 49,
    "start_time": "2023-01-24T04:16:22.865Z"
   },
   {
    "duration": 29,
    "start_time": "2023-01-24T04:16:22.916Z"
   },
   {
    "duration": 55,
    "start_time": "2023-01-24T04:16:22.948Z"
   },
   {
    "duration": 27,
    "start_time": "2023-01-24T04:16:23.006Z"
   },
   {
    "duration": 20,
    "start_time": "2023-01-24T04:16:23.037Z"
   },
   {
    "duration": 29,
    "start_time": "2023-01-24T04:16:23.059Z"
   },
   {
    "duration": 58,
    "start_time": "2023-01-24T04:16:23.090Z"
   },
   {
    "duration": 12,
    "start_time": "2023-01-24T04:16:23.151Z"
   },
   {
    "duration": 44,
    "start_time": "2023-01-24T04:16:23.165Z"
   },
   {
    "duration": 47,
    "start_time": "2023-01-24T04:16:23.211Z"
   },
   {
    "duration": 37,
    "start_time": "2023-01-24T04:16:23.260Z"
   },
   {
    "duration": 39,
    "start_time": "2023-01-24T04:16:23.299Z"
   },
   {
    "duration": 29,
    "start_time": "2023-01-24T04:16:23.340Z"
   },
   {
    "duration": 20,
    "start_time": "2023-01-24T04:16:23.371Z"
   },
   {
    "duration": 31,
    "start_time": "2023-01-24T04:16:23.395Z"
   },
   {
    "duration": 22,
    "start_time": "2023-01-24T04:16:23.428Z"
   },
   {
    "duration": 22,
    "start_time": "2023-01-24T04:16:23.453Z"
   },
   {
    "duration": 36,
    "start_time": "2023-01-24T04:16:23.476Z"
   },
   {
    "duration": 47,
    "start_time": "2023-01-24T04:16:23.514Z"
   },
   {
    "duration": 31,
    "start_time": "2023-01-24T04:16:23.563Z"
   },
   {
    "duration": 490,
    "start_time": "2023-01-24T04:16:23.597Z"
   },
   {
    "duration": 10,
    "start_time": "2023-01-24T04:16:24.089Z"
   },
   {
    "duration": 269,
    "start_time": "2023-01-24T04:16:24.103Z"
   },
   {
    "duration": 266,
    "start_time": "2023-01-24T04:16:24.374Z"
   },
   {
    "duration": 493,
    "start_time": "2023-01-24T04:16:24.642Z"
   },
   {
    "duration": 388,
    "start_time": "2023-01-24T04:16:25.140Z"
   },
   {
    "duration": 447,
    "start_time": "2023-01-24T04:16:25.530Z"
   },
   {
    "duration": 232,
    "start_time": "2023-01-24T04:16:25.980Z"
   },
   {
    "duration": 7,
    "start_time": "2023-01-24T04:16:26.214Z"
   },
   {
    "duration": 362,
    "start_time": "2023-01-24T04:16:26.224Z"
   },
   {
    "duration": 11,
    "start_time": "2023-01-24T04:16:26.589Z"
   },
   {
    "duration": 34,
    "start_time": "2023-01-24T04:16:26.602Z"
   },
   {
    "duration": 316,
    "start_time": "2023-01-24T04:16:26.638Z"
   },
   {
    "duration": 44,
    "start_time": "2023-01-24T04:16:26.956Z"
   },
   {
    "duration": 16,
    "start_time": "2023-01-24T04:16:27.003Z"
   },
   {
    "duration": 16,
    "start_time": "2023-01-24T04:16:27.041Z"
   },
   {
    "duration": 41,
    "start_time": "2023-01-24T04:16:27.060Z"
   },
   {
    "duration": 77,
    "start_time": "2023-01-24T04:16:27.103Z"
   },
   {
    "duration": 22,
    "start_time": "2023-01-24T04:16:27.182Z"
   },
   {
    "duration": 21,
    "start_time": "2023-01-24T04:16:27.206Z"
   },
   {
    "duration": 11,
    "start_time": "2023-01-24T04:20:49.584Z"
   },
   {
    "duration": 570,
    "start_time": "2023-01-24T04:21:19.827Z"
   },
   {
    "duration": 775,
    "start_time": "2023-01-24T04:23:13.973Z"
   },
   {
    "duration": 10,
    "start_time": "2023-01-24T04:25:46.682Z"
   },
   {
    "duration": 32,
    "start_time": "2023-01-24T04:27:45.428Z"
   },
   {
    "duration": 54,
    "start_time": "2023-01-24T04:29:35.061Z"
   },
   {
    "duration": 7,
    "start_time": "2023-01-24T04:30:40.007Z"
   },
   {
    "duration": 9,
    "start_time": "2023-01-24T04:31:09.429Z"
   },
   {
    "duration": 282,
    "start_time": "2023-01-24T04:31:38.865Z"
   },
   {
    "duration": 10,
    "start_time": "2023-01-24T04:32:31.733Z"
   },
   {
    "duration": 9,
    "start_time": "2023-01-24T04:32:34.209Z"
   },
   {
    "duration": 8,
    "start_time": "2023-01-24T04:32:37.956Z"
   },
   {
    "duration": 25,
    "start_time": "2023-01-24T04:32:38.469Z"
   },
   {
    "duration": 19,
    "start_time": "2023-01-24T04:32:41.915Z"
   },
   {
    "duration": 6,
    "start_time": "2023-01-24T04:32:45.342Z"
   },
   {
    "duration": 6,
    "start_time": "2023-01-24T04:32:47.570Z"
   },
   {
    "duration": 6,
    "start_time": "2023-01-24T04:32:48.537Z"
   },
   {
    "duration": 257,
    "start_time": "2023-01-24T04:32:49.499Z"
   },
   {
    "duration": 12,
    "start_time": "2023-01-24T04:33:31.020Z"
   },
   {
    "duration": 10,
    "start_time": "2023-01-24T04:33:35.704Z"
   },
   {
    "duration": 34,
    "start_time": "2023-01-24T04:33:37.525Z"
   },
   {
    "duration": 16,
    "start_time": "2023-01-24T04:33:41.621Z"
   },
   {
    "duration": 9,
    "start_time": "2023-01-24T04:34:19.484Z"
   },
   {
    "duration": 10,
    "start_time": "2023-01-24T04:34:21.687Z"
   },
   {
    "duration": 39,
    "start_time": "2023-01-24T04:34:22.075Z"
   },
   {
    "duration": 19,
    "start_time": "2023-01-24T04:34:28.423Z"
   },
   {
    "duration": 8,
    "start_time": "2023-01-24T04:34:38.318Z"
   },
   {
    "duration": 9,
    "start_time": "2023-01-24T04:34:38.792Z"
   },
   {
    "duration": 42,
    "start_time": "2023-01-24T04:34:38.966Z"
   },
   {
    "duration": 19,
    "start_time": "2023-01-24T04:34:39.542Z"
   },
   {
    "duration": 5,
    "start_time": "2023-01-24T04:34:40.270Z"
   },
   {
    "duration": 7,
    "start_time": "2023-01-24T04:34:40.741Z"
   },
   {
    "duration": 9,
    "start_time": "2023-01-24T04:34:41.183Z"
   },
   {
    "duration": 247,
    "start_time": "2023-01-24T04:34:41.629Z"
   },
   {
    "duration": 322,
    "start_time": "2023-01-24T04:35:49.296Z"
   },
   {
    "duration": 325,
    "start_time": "2023-01-24T04:38:29.987Z"
   },
   {
    "duration": 11,
    "start_time": "2023-01-24T05:10:29.491Z"
   },
   {
    "duration": 19,
    "start_time": "2023-01-24T05:10:33.832Z"
   },
   {
    "duration": 16,
    "start_time": "2023-01-24T05:10:59.054Z"
   },
   {
    "duration": 12,
    "start_time": "2023-01-24T05:12:17.401Z"
   },
   {
    "duration": 37,
    "start_time": "2023-01-24T05:12:59.803Z"
   },
   {
    "duration": 6,
    "start_time": "2023-01-24T05:13:09.778Z"
   },
   {
    "duration": 16,
    "start_time": "2023-01-24T05:13:16.975Z"
   },
   {
    "duration": 18,
    "start_time": "2023-01-24T05:13:23.875Z"
   },
   {
    "duration": 351,
    "start_time": "2023-01-24T05:14:24.567Z"
   },
   {
    "duration": 241,
    "start_time": "2023-01-24T05:15:33.352Z"
   },
   {
    "duration": 16,
    "start_time": "2023-01-24T05:15:50.352Z"
   },
   {
    "duration": 294,
    "start_time": "2023-01-24T05:15:57.436Z"
   },
   {
    "duration": 269,
    "start_time": "2023-01-24T05:15:58.007Z"
   },
   {
    "duration": 361,
    "start_time": "2023-01-24T05:16:57.631Z"
   },
   {
    "duration": 330,
    "start_time": "2023-01-24T05:18:22.072Z"
   },
   {
    "duration": 321,
    "start_time": "2023-01-24T05:20:14.043Z"
   },
   {
    "duration": 291,
    "start_time": "2023-01-24T05:24:35.168Z"
   },
   {
    "duration": 258,
    "start_time": "2023-01-24T05:24:35.984Z"
   },
   {
    "duration": 338,
    "start_time": "2023-01-24T05:24:37.087Z"
   },
   {
    "duration": 356,
    "start_time": "2023-01-24T05:24:38.558Z"
   },
   {
    "duration": 6,
    "start_time": "2023-01-24T05:35:35.081Z"
   },
   {
    "duration": 324,
    "start_time": "2023-01-24T05:35:35.268Z"
   },
   {
    "duration": 1242,
    "start_time": "2023-01-24T05:36:00.398Z"
   },
   {
    "duration": 81,
    "start_time": "2023-01-24T05:36:01.642Z"
   },
   {
    "duration": 40,
    "start_time": "2023-01-24T05:36:01.725Z"
   },
   {
    "duration": 21,
    "start_time": "2023-01-24T05:36:01.769Z"
   },
   {
    "duration": 53,
    "start_time": "2023-01-24T05:36:01.792Z"
   },
   {
    "duration": 15,
    "start_time": "2023-01-24T05:36:01.847Z"
   },
   {
    "duration": 50,
    "start_time": "2023-01-24T05:36:01.864Z"
   },
   {
    "duration": 10,
    "start_time": "2023-01-24T05:36:01.916Z"
   },
   {
    "duration": 34,
    "start_time": "2023-01-24T05:36:01.928Z"
   },
   {
    "duration": 18,
    "start_time": "2023-01-24T05:36:01.966Z"
   },
   {
    "duration": 15,
    "start_time": "2023-01-24T05:36:01.986Z"
   },
   {
    "duration": 29,
    "start_time": "2023-01-24T05:36:02.003Z"
   },
   {
    "duration": 44,
    "start_time": "2023-01-24T05:36:02.034Z"
   },
   {
    "duration": 8,
    "start_time": "2023-01-24T05:36:02.080Z"
   },
   {
    "duration": 32,
    "start_time": "2023-01-24T05:36:02.090Z"
   },
   {
    "duration": 13,
    "start_time": "2023-01-24T05:36:02.124Z"
   },
   {
    "duration": 34,
    "start_time": "2023-01-24T05:36:02.140Z"
   },
   {
    "duration": 18,
    "start_time": "2023-01-24T05:36:02.176Z"
   },
   {
    "duration": 26,
    "start_time": "2023-01-24T05:36:02.196Z"
   },
   {
    "duration": 20,
    "start_time": "2023-01-24T05:36:02.225Z"
   },
   {
    "duration": 20,
    "start_time": "2023-01-24T05:36:02.248Z"
   },
   {
    "duration": 22,
    "start_time": "2023-01-24T05:36:02.270Z"
   },
   {
    "duration": 27,
    "start_time": "2023-01-24T05:36:02.295Z"
   },
   {
    "duration": 16,
    "start_time": "2023-01-24T05:36:02.324Z"
   },
   {
    "duration": 16,
    "start_time": "2023-01-24T05:36:02.343Z"
   },
   {
    "duration": 30,
    "start_time": "2023-01-24T05:36:02.360Z"
   },
   {
    "duration": 374,
    "start_time": "2023-01-24T05:36:02.393Z"
   },
   {
    "duration": 13,
    "start_time": "2023-01-24T05:36:02.771Z"
   },
   {
    "duration": 399,
    "start_time": "2023-01-24T05:36:02.786Z"
   },
   {
    "duration": 265,
    "start_time": "2023-01-24T05:36:03.189Z"
   },
   {
    "duration": 341,
    "start_time": "2023-01-24T05:36:03.457Z"
   },
   {
    "duration": 289,
    "start_time": "2023-01-24T05:36:03.800Z"
   },
   {
    "duration": 435,
    "start_time": "2023-01-24T05:36:04.091Z"
   },
   {
    "duration": 189,
    "start_time": "2023-01-24T05:36:04.528Z"
   },
   {
    "duration": 6,
    "start_time": "2023-01-24T05:36:04.719Z"
   },
   {
    "duration": 239,
    "start_time": "2023-01-24T05:36:04.726Z"
   },
   {
    "duration": 6,
    "start_time": "2023-01-24T05:36:04.967Z"
   },
   {
    "duration": 20,
    "start_time": "2023-01-24T05:36:04.975Z"
   },
   {
    "duration": 203,
    "start_time": "2023-01-24T05:36:04.997Z"
   },
   {
    "duration": 50,
    "start_time": "2023-01-24T05:36:05.202Z"
   },
   {
    "duration": 11,
    "start_time": "2023-01-24T05:36:05.254Z"
   },
   {
    "duration": 37,
    "start_time": "2023-01-24T05:36:05.267Z"
   },
   {
    "duration": 327,
    "start_time": "2023-01-24T05:36:05.306Z"
   },
   {
    "duration": 270,
    "start_time": "2023-01-24T05:36:05.639Z"
   },
   {
    "duration": 455,
    "start_time": "2023-01-24T05:36:05.911Z"
   },
   {
    "duration": 388,
    "start_time": "2023-01-24T05:36:06.368Z"
   },
   {
    "duration": 10,
    "start_time": "2023-01-24T05:36:06.758Z"
   },
   {
    "duration": 49,
    "start_time": "2023-01-24T05:36:06.769Z"
   },
   {
    "duration": 27,
    "start_time": "2023-01-24T05:36:06.822Z"
   },
   {
    "duration": 1191,
    "start_time": "2023-01-24T11:39:13.526Z"
   },
   {
    "duration": 120,
    "start_time": "2023-01-24T11:39:14.719Z"
   },
   {
    "duration": 13,
    "start_time": "2023-01-24T11:39:14.840Z"
   },
   {
    "duration": 16,
    "start_time": "2023-01-24T11:39:14.854Z"
   },
   {
    "duration": 29,
    "start_time": "2023-01-24T11:39:14.872Z"
   },
   {
    "duration": 17,
    "start_time": "2023-01-24T11:39:14.903Z"
   },
   {
    "duration": 73,
    "start_time": "2023-01-24T11:39:14.921Z"
   },
   {
    "duration": 10,
    "start_time": "2023-01-24T11:39:14.996Z"
   },
   {
    "duration": 56,
    "start_time": "2023-01-24T11:39:15.007Z"
   },
   {
    "duration": 25,
    "start_time": "2023-01-24T11:39:15.065Z"
   },
   {
    "duration": 18,
    "start_time": "2023-01-24T11:39:15.092Z"
   },
   {
    "duration": 26,
    "start_time": "2023-01-24T11:39:15.112Z"
   },
   {
    "duration": 90,
    "start_time": "2023-01-24T11:39:15.140Z"
   },
   {
    "duration": 8,
    "start_time": "2023-01-24T11:39:15.233Z"
   },
   {
    "duration": 31,
    "start_time": "2023-01-24T11:39:15.242Z"
   },
   {
    "duration": 24,
    "start_time": "2023-01-24T11:39:15.274Z"
   },
   {
    "duration": 34,
    "start_time": "2023-01-24T11:39:15.300Z"
   },
   {
    "duration": 27,
    "start_time": "2023-01-24T11:39:15.338Z"
   },
   {
    "duration": 29,
    "start_time": "2023-01-24T11:39:15.366Z"
   },
   {
    "duration": 18,
    "start_time": "2023-01-24T11:39:15.397Z"
   },
   {
    "duration": 14,
    "start_time": "2023-01-24T11:39:15.417Z"
   },
   {
    "duration": 24,
    "start_time": "2023-01-24T11:39:15.434Z"
   },
   {
    "duration": 12,
    "start_time": "2023-01-24T11:39:15.460Z"
   },
   {
    "duration": 21,
    "start_time": "2023-01-24T11:39:15.474Z"
   },
   {
    "duration": 35,
    "start_time": "2023-01-24T11:39:15.497Z"
   },
   {
    "duration": 11,
    "start_time": "2023-01-24T11:39:15.533Z"
   },
   {
    "duration": 290,
    "start_time": "2023-01-24T11:39:15.546Z"
   },
   {
    "duration": 10,
    "start_time": "2023-01-24T11:39:15.837Z"
   },
   {
    "duration": 304,
    "start_time": "2023-01-24T11:39:15.849Z"
   },
   {
    "duration": 254,
    "start_time": "2023-01-24T11:39:16.154Z"
   },
   {
    "duration": 343,
    "start_time": "2023-01-24T11:39:16.410Z"
   },
   {
    "duration": 246,
    "start_time": "2023-01-24T11:39:16.755Z"
   },
   {
    "duration": 328,
    "start_time": "2023-01-24T11:39:17.003Z"
   },
   {
    "duration": 163,
    "start_time": "2023-01-24T11:39:17.333Z"
   },
   {
    "duration": 7,
    "start_time": "2023-01-24T11:39:17.498Z"
   },
   {
    "duration": 235,
    "start_time": "2023-01-24T11:39:17.507Z"
   },
   {
    "duration": 9,
    "start_time": "2023-01-24T11:39:17.744Z"
   },
   {
    "duration": 12,
    "start_time": "2023-01-24T11:39:17.756Z"
   },
   {
    "duration": 172,
    "start_time": "2023-01-24T11:39:17.770Z"
   },
   {
    "duration": 26,
    "start_time": "2023-01-24T11:39:17.943Z"
   },
   {
    "duration": 30,
    "start_time": "2023-01-24T11:39:17.973Z"
   },
   {
    "duration": 8,
    "start_time": "2023-01-24T11:39:18.005Z"
   },
   {
    "duration": 331,
    "start_time": "2023-01-24T11:39:18.015Z"
   },
   {
    "duration": 267,
    "start_time": "2023-01-24T11:39:18.348Z"
   },
   {
    "duration": 440,
    "start_time": "2023-01-24T11:39:18.618Z"
   },
   {
    "duration": 431,
    "start_time": "2023-01-24T11:39:19.060Z"
   },
   {
    "duration": 12,
    "start_time": "2023-01-24T11:39:19.492Z"
   },
   {
    "duration": 44,
    "start_time": "2023-01-24T11:39:19.507Z"
   },
   {
    "duration": 15,
    "start_time": "2023-01-24T11:39:19.553Z"
   },
   {
    "duration": 1027,
    "start_time": "2023-01-24T12:46:44.433Z"
   },
   {
    "duration": 85,
    "start_time": "2023-01-24T12:46:45.463Z"
   },
   {
    "duration": 14,
    "start_time": "2023-01-24T12:46:45.550Z"
   },
   {
    "duration": 5,
    "start_time": "2023-01-24T12:46:45.565Z"
   },
   {
    "duration": 27,
    "start_time": "2023-01-24T12:46:45.573Z"
   },
   {
    "duration": 12,
    "start_time": "2023-01-24T12:46:45.602Z"
   },
   {
    "duration": 25,
    "start_time": "2023-01-24T12:46:45.616Z"
   },
   {
    "duration": 10,
    "start_time": "2023-01-24T12:46:45.646Z"
   },
   {
    "duration": 27,
    "start_time": "2023-01-24T12:46:45.670Z"
   },
   {
    "duration": 13,
    "start_time": "2023-01-24T12:46:45.699Z"
   },
   {
    "duration": 13,
    "start_time": "2023-01-24T12:46:45.714Z"
   },
   {
    "duration": 8,
    "start_time": "2023-01-24T12:46:45.729Z"
   },
   {
    "duration": 47,
    "start_time": "2023-01-24T12:46:45.739Z"
   },
   {
    "duration": 10,
    "start_time": "2023-01-24T12:46:45.789Z"
   },
   {
    "duration": 24,
    "start_time": "2023-01-24T12:46:45.801Z"
   },
   {
    "duration": 9,
    "start_time": "2023-01-24T12:46:45.827Z"
   },
   {
    "duration": 12,
    "start_time": "2023-01-24T12:46:45.837Z"
   },
   {
    "duration": 13,
    "start_time": "2023-01-24T12:46:45.851Z"
   },
   {
    "duration": 9,
    "start_time": "2023-01-24T12:46:45.866Z"
   },
   {
    "duration": 23,
    "start_time": "2023-01-24T12:46:45.877Z"
   },
   {
    "duration": 22,
    "start_time": "2023-01-24T12:46:45.902Z"
   },
   {
    "duration": 11,
    "start_time": "2023-01-24T12:46:45.926Z"
   },
   {
    "duration": 8,
    "start_time": "2023-01-24T12:46:45.939Z"
   },
   {
    "duration": 16,
    "start_time": "2023-01-24T12:46:45.949Z"
   },
   {
    "duration": 23,
    "start_time": "2023-01-24T12:46:45.967Z"
   },
   {
    "duration": 25,
    "start_time": "2023-01-24T12:46:45.992Z"
   },
   {
    "duration": 289,
    "start_time": "2023-01-24T12:46:46.019Z"
   },
   {
    "duration": 9,
    "start_time": "2023-01-24T12:46:46.310Z"
   },
   {
    "duration": 332,
    "start_time": "2023-01-24T12:46:46.321Z"
   },
   {
    "duration": 245,
    "start_time": "2023-01-24T12:46:46.656Z"
   },
   {
    "duration": 340,
    "start_time": "2023-01-24T12:46:46.903Z"
   },
   {
    "duration": 254,
    "start_time": "2023-01-24T12:46:47.245Z"
   },
   {
    "duration": 335,
    "start_time": "2023-01-24T12:46:47.500Z"
   },
   {
    "duration": 151,
    "start_time": "2023-01-24T12:46:47.837Z"
   },
   {
    "duration": 12,
    "start_time": "2023-01-24T12:46:47.990Z"
   },
   {
    "duration": 199,
    "start_time": "2023-01-24T12:46:48.004Z"
   },
   {
    "duration": 6,
    "start_time": "2023-01-24T12:46:48.205Z"
   },
   {
    "duration": 24,
    "start_time": "2023-01-24T12:46:48.213Z"
   },
   {
    "duration": 122,
    "start_time": "2023-01-24T12:46:48.240Z"
   },
   {
    "duration": 34,
    "start_time": "2023-01-24T12:46:48.364Z"
   },
   {
    "duration": 11,
    "start_time": "2023-01-24T12:46:48.402Z"
   },
   {
    "duration": 14,
    "start_time": "2023-01-24T12:46:48.414Z"
   },
   {
    "duration": 304,
    "start_time": "2023-01-24T12:46:48.430Z"
   },
   {
    "duration": 237,
    "start_time": "2023-01-24T12:46:48.735Z"
   },
   {
    "duration": 381,
    "start_time": "2023-01-24T12:46:48.973Z"
   },
   {
    "duration": 389,
    "start_time": "2023-01-24T12:46:49.356Z"
   },
   {
    "duration": 10,
    "start_time": "2023-01-24T12:46:49.748Z"
   },
   {
    "duration": 40,
    "start_time": "2023-01-24T12:46:49.760Z"
   },
   {
    "duration": 16,
    "start_time": "2023-01-24T12:46:49.802Z"
   },
   {
    "duration": 60,
    "start_time": "2023-01-24T14:29:17.821Z"
   },
   {
    "duration": 1488,
    "start_time": "2023-01-24T14:29:23.249Z"
   },
   {
    "duration": 191,
    "start_time": "2023-01-24T14:29:24.740Z"
   },
   {
    "duration": 18,
    "start_time": "2023-01-24T14:29:24.933Z"
   },
   {
    "duration": 16,
    "start_time": "2023-01-24T14:29:24.954Z"
   },
   {
    "duration": 75,
    "start_time": "2023-01-24T14:29:24.976Z"
   },
   {
    "duration": 29,
    "start_time": "2023-01-24T14:29:25.054Z"
   },
   {
    "duration": 83,
    "start_time": "2023-01-24T14:29:25.085Z"
   },
   {
    "duration": 9,
    "start_time": "2023-01-24T14:29:25.170Z"
   },
   {
    "duration": 47,
    "start_time": "2023-01-24T14:29:25.182Z"
   },
   {
    "duration": 11,
    "start_time": "2023-01-24T14:29:25.232Z"
   },
   {
    "duration": 10,
    "start_time": "2023-01-24T14:29:25.246Z"
   },
   {
    "duration": 13,
    "start_time": "2023-01-24T14:29:25.258Z"
   },
   {
    "duration": 108,
    "start_time": "2023-01-24T14:29:25.273Z"
   },
   {
    "duration": 9,
    "start_time": "2023-01-24T14:29:25.383Z"
   },
   {
    "duration": 15,
    "start_time": "2023-01-24T14:29:25.395Z"
   },
   {
    "duration": 11,
    "start_time": "2023-01-24T14:29:25.412Z"
   },
   {
    "duration": 16,
    "start_time": "2023-01-24T14:29:25.424Z"
   },
   {
    "duration": 15,
    "start_time": "2023-01-24T14:29:25.441Z"
   },
   {
    "duration": 27,
    "start_time": "2023-01-24T14:29:25.459Z"
   },
   {
    "duration": 7,
    "start_time": "2023-01-24T14:29:25.488Z"
   },
   {
    "duration": 7,
    "start_time": "2023-01-24T14:29:25.497Z"
   },
   {
    "duration": 11,
    "start_time": "2023-01-24T14:29:25.506Z"
   },
   {
    "duration": 7,
    "start_time": "2023-01-24T14:29:25.520Z"
   },
   {
    "duration": 17,
    "start_time": "2023-01-24T14:29:25.529Z"
   },
   {
    "duration": 36,
    "start_time": "2023-01-24T14:29:25.548Z"
   },
   {
    "duration": 7,
    "start_time": "2023-01-24T14:29:25.586Z"
   },
   {
    "duration": 366,
    "start_time": "2023-01-24T14:29:25.596Z"
   },
   {
    "duration": 18,
    "start_time": "2023-01-24T14:29:25.968Z"
   },
   {
    "duration": 413,
    "start_time": "2023-01-24T14:29:25.989Z"
   },
   {
    "duration": 324,
    "start_time": "2023-01-24T14:29:26.404Z"
   },
   {
    "duration": 466,
    "start_time": "2023-01-24T14:29:26.730Z"
   },
   {
    "duration": 323,
    "start_time": "2023-01-24T14:29:27.198Z"
   },
   {
    "duration": 376,
    "start_time": "2023-01-24T14:29:27.523Z"
   },
   {
    "duration": 181,
    "start_time": "2023-01-24T14:29:27.902Z"
   },
   {
    "duration": 7,
    "start_time": "2023-01-24T14:29:28.086Z"
   },
   {
    "duration": 229,
    "start_time": "2023-01-24T14:29:28.095Z"
   },
   {
    "duration": 9,
    "start_time": "2023-01-24T14:29:28.326Z"
   },
   {
    "duration": 13,
    "start_time": "2023-01-24T14:29:28.337Z"
   },
   {
    "duration": 179,
    "start_time": "2023-01-24T14:29:28.352Z"
   },
   {
    "duration": 25,
    "start_time": "2023-01-24T14:29:28.533Z"
   },
   {
    "duration": 29,
    "start_time": "2023-01-24T14:29:28.560Z"
   },
   {
    "duration": 13,
    "start_time": "2023-01-24T14:29:28.591Z"
   },
   {
    "duration": 310,
    "start_time": "2023-01-24T14:29:28.606Z"
   },
   {
    "duration": 285,
    "start_time": "2023-01-24T14:29:28.918Z"
   },
   {
    "duration": 459,
    "start_time": "2023-01-24T14:29:29.206Z"
   },
   {
    "duration": 366,
    "start_time": "2023-01-24T14:29:29.667Z"
   },
   {
    "duration": 10,
    "start_time": "2023-01-24T14:29:30.035Z"
   },
   {
    "duration": 83,
    "start_time": "2023-01-24T14:29:30.047Z"
   },
   {
    "duration": 18,
    "start_time": "2023-01-24T14:29:30.132Z"
   },
   {
    "duration": 241,
    "start_time": "2023-01-24T14:29:43.924Z"
   },
   {
    "duration": 339,
    "start_time": "2023-01-24T14:29:50.301Z"
   },
   {
    "duration": 282,
    "start_time": "2023-01-24T14:29:56.916Z"
   },
   {
    "duration": 320,
    "start_time": "2023-01-24T14:30:02.338Z"
   },
   {
    "duration": 137,
    "start_time": "2023-01-24T14:30:07.028Z"
   },
   {
    "duration": 22,
    "start_time": "2023-01-24T14:47:07.564Z"
   },
   {
    "duration": 24,
    "start_time": "2023-01-24T14:47:14.023Z"
   },
   {
    "duration": 24,
    "start_time": "2023-01-24T14:47:28.158Z"
   },
   {
    "duration": 25,
    "start_time": "2023-01-24T14:47:52.460Z"
   },
   {
    "duration": 29,
    "start_time": "2023-01-24T14:50:27.332Z"
   },
   {
    "duration": 81,
    "start_time": "2023-01-24T14:51:16.689Z"
   },
   {
    "duration": 36,
    "start_time": "2023-01-24T14:51:21.429Z"
   },
   {
    "duration": 25,
    "start_time": "2023-01-24T14:53:17.229Z"
   },
   {
    "duration": 79,
    "start_time": "2023-01-24T14:54:04.506Z"
   },
   {
    "duration": 77,
    "start_time": "2023-01-24T14:54:07.989Z"
   },
   {
    "duration": 79,
    "start_time": "2023-01-24T14:54:24.026Z"
   },
   {
    "duration": 107,
    "start_time": "2023-01-24T14:54:32.703Z"
   },
   {
    "duration": 26,
    "start_time": "2023-01-24T14:54:53.465Z"
   },
   {
    "duration": 5,
    "start_time": "2023-01-24T14:57:21.494Z"
   },
   {
    "duration": 5,
    "start_time": "2023-01-24T14:57:25.465Z"
   },
   {
    "duration": 92,
    "start_time": "2023-01-24T14:57:29.148Z"
   },
   {
    "duration": 86,
    "start_time": "2023-01-24T14:57:35.616Z"
   },
   {
    "duration": 76,
    "start_time": "2023-01-24T14:57:48.067Z"
   },
   {
    "duration": 11,
    "start_time": "2023-01-24T14:58:00.673Z"
   },
   {
    "duration": 12,
    "start_time": "2023-01-24T14:58:17.299Z"
   },
   {
    "duration": 12,
    "start_time": "2023-01-24T14:58:58.914Z"
   },
   {
    "duration": 12,
    "start_time": "2023-01-24T14:59:51.804Z"
   },
   {
    "duration": 1189,
    "start_time": "2023-01-24T16:30:23.370Z"
   },
   {
    "duration": 136,
    "start_time": "2023-01-24T16:30:24.564Z"
   },
   {
    "duration": 11,
    "start_time": "2023-01-24T16:30:24.702Z"
   },
   {
    "duration": 21,
    "start_time": "2023-01-24T16:30:24.714Z"
   },
   {
    "duration": 55,
    "start_time": "2023-01-24T16:30:24.737Z"
   },
   {
    "duration": 63,
    "start_time": "2023-01-24T16:30:24.793Z"
   },
   {
    "duration": 103,
    "start_time": "2023-01-24T16:30:24.859Z"
   },
   {
    "duration": 9,
    "start_time": "2023-01-24T16:30:24.964Z"
   },
   {
    "duration": 51,
    "start_time": "2023-01-24T16:30:24.975Z"
   },
   {
    "duration": 45,
    "start_time": "2023-01-24T16:30:25.027Z"
   },
   {
    "duration": 40,
    "start_time": "2023-01-24T16:30:25.074Z"
   },
   {
    "duration": 15,
    "start_time": "2023-01-24T16:30:25.116Z"
   },
   {
    "duration": 121,
    "start_time": "2023-01-24T16:30:25.133Z"
   },
   {
    "duration": 13,
    "start_time": "2023-01-24T16:30:25.258Z"
   },
   {
    "duration": 32,
    "start_time": "2023-01-24T16:30:25.275Z"
   },
   {
    "duration": 49,
    "start_time": "2023-01-24T16:30:25.309Z"
   },
   {
    "duration": 43,
    "start_time": "2023-01-24T16:30:25.362Z"
   },
   {
    "duration": 62,
    "start_time": "2023-01-24T16:30:25.407Z"
   },
   {
    "duration": 26,
    "start_time": "2023-01-24T16:30:25.471Z"
   },
   {
    "duration": 17,
    "start_time": "2023-01-24T16:30:25.499Z"
   },
   {
    "duration": 54,
    "start_time": "2023-01-24T16:30:25.518Z"
   },
   {
    "duration": 30,
    "start_time": "2023-01-24T16:30:25.574Z"
   },
   {
    "duration": 64,
    "start_time": "2023-01-24T16:30:25.606Z"
   },
   {
    "duration": 50,
    "start_time": "2023-01-24T16:30:25.672Z"
   },
   {
    "duration": 71,
    "start_time": "2023-01-24T16:30:25.724Z"
   },
   {
    "duration": 30,
    "start_time": "2023-01-24T16:30:25.796Z"
   },
   {
    "duration": 358,
    "start_time": "2023-01-24T16:30:25.827Z"
   },
   {
    "duration": 8,
    "start_time": "2023-01-24T16:30:26.187Z"
   },
   {
    "duration": 391,
    "start_time": "2023-01-24T16:30:26.196Z"
   },
   {
    "duration": 229,
    "start_time": "2023-01-24T16:30:26.588Z"
   },
   {
    "duration": 459,
    "start_time": "2023-01-24T16:30:26.818Z"
   },
   {
    "duration": 313,
    "start_time": "2023-01-24T16:30:27.279Z"
   },
   {
    "duration": 305,
    "start_time": "2023-01-24T16:30:27.594Z"
   },
   {
    "duration": 167,
    "start_time": "2023-01-24T16:30:27.900Z"
   },
   {
    "duration": 5,
    "start_time": "2023-01-24T16:30:28.070Z"
   },
   {
    "duration": 207,
    "start_time": "2023-01-24T16:30:28.077Z"
   },
   {
    "duration": 5,
    "start_time": "2023-01-24T16:30:28.286Z"
   },
   {
    "duration": 10,
    "start_time": "2023-01-24T16:30:28.293Z"
   },
   {
    "duration": 162,
    "start_time": "2023-01-24T16:30:28.304Z"
   },
   {
    "duration": 25,
    "start_time": "2023-01-24T16:30:28.468Z"
   },
   {
    "duration": 10,
    "start_time": "2023-01-24T16:30:28.496Z"
   },
   {
    "duration": 6,
    "start_time": "2023-01-24T16:30:28.507Z"
   },
   {
    "duration": 346,
    "start_time": "2023-01-24T16:30:28.515Z"
   },
   {
    "duration": 252,
    "start_time": "2023-01-24T16:30:28.869Z"
   },
   {
    "duration": 359,
    "start_time": "2023-01-24T16:30:29.122Z"
   },
   {
    "duration": 334,
    "start_time": "2023-01-24T16:30:29.483Z"
   },
   {
    "duration": 9,
    "start_time": "2023-01-24T16:30:29.819Z"
   },
   {
    "duration": 63,
    "start_time": "2023-01-24T16:30:29.829Z"
   },
   {
    "duration": 0,
    "start_time": "2023-01-24T16:30:29.894Z"
   },
   {
    "duration": 60,
    "start_time": "2023-01-24T16:32:08.415Z"
   },
   {
    "duration": 48,
    "start_time": "2023-01-24T16:33:37.985Z"
   },
   {
    "duration": 87,
    "start_time": "2023-01-24T16:34:16.335Z"
   },
   {
    "duration": 28,
    "start_time": "2023-01-24T16:34:29.775Z"
   },
   {
    "duration": 46,
    "start_time": "2023-01-24T16:34:39.562Z"
   },
   {
    "duration": 15,
    "start_time": "2023-01-24T16:34:44.799Z"
   },
   {
    "duration": 1061,
    "start_time": "2023-01-24T16:37:22.471Z"
   },
   {
    "duration": 83,
    "start_time": "2023-01-24T16:37:23.533Z"
   },
   {
    "duration": 11,
    "start_time": "2023-01-24T16:37:23.617Z"
   },
   {
    "duration": 6,
    "start_time": "2023-01-24T16:37:23.629Z"
   },
   {
    "duration": 32,
    "start_time": "2023-01-24T16:37:23.643Z"
   },
   {
    "duration": 10,
    "start_time": "2023-01-24T16:37:23.677Z"
   },
   {
    "duration": 17,
    "start_time": "2023-01-24T16:37:23.688Z"
   },
   {
    "duration": 7,
    "start_time": "2023-01-24T16:37:23.706Z"
   },
   {
    "duration": 18,
    "start_time": "2023-01-24T16:37:23.714Z"
   },
   {
    "duration": 26,
    "start_time": "2023-01-24T16:37:23.733Z"
   },
   {
    "duration": 22,
    "start_time": "2023-01-24T16:37:23.761Z"
   },
   {
    "duration": 11,
    "start_time": "2023-01-24T16:37:23.785Z"
   },
   {
    "duration": 59,
    "start_time": "2023-01-24T16:37:23.797Z"
   },
   {
    "duration": 14,
    "start_time": "2023-01-24T16:37:23.861Z"
   },
   {
    "duration": 48,
    "start_time": "2023-01-24T16:37:23.877Z"
   },
   {
    "duration": 33,
    "start_time": "2023-01-24T16:37:23.926Z"
   },
   {
    "duration": 42,
    "start_time": "2023-01-24T16:37:23.961Z"
   },
   {
    "duration": 53,
    "start_time": "2023-01-24T16:37:24.004Z"
   },
   {
    "duration": 26,
    "start_time": "2023-01-24T16:37:24.059Z"
   },
   {
    "duration": 10,
    "start_time": "2023-01-24T16:37:24.087Z"
   },
   {
    "duration": 8,
    "start_time": "2023-01-24T16:37:24.099Z"
   },
   {
    "duration": 17,
    "start_time": "2023-01-24T16:37:24.109Z"
   },
   {
    "duration": 8,
    "start_time": "2023-01-24T16:37:24.127Z"
   },
   {
    "duration": 30,
    "start_time": "2023-01-24T16:37:24.136Z"
   },
   {
    "duration": 9,
    "start_time": "2023-01-24T16:37:24.168Z"
   },
   {
    "duration": 63,
    "start_time": "2023-01-24T16:37:24.179Z"
   },
   {
    "duration": 371,
    "start_time": "2023-01-24T16:37:24.244Z"
   },
   {
    "duration": 9,
    "start_time": "2023-01-24T16:37:24.617Z"
   },
   {
    "duration": 347,
    "start_time": "2023-01-24T16:37:24.627Z"
   },
   {
    "duration": 248,
    "start_time": "2023-01-24T16:37:24.976Z"
   },
   {
    "duration": 363,
    "start_time": "2023-01-24T16:37:25.226Z"
   },
   {
    "duration": 310,
    "start_time": "2023-01-24T16:37:25.590Z"
   },
   {
    "duration": 403,
    "start_time": "2023-01-24T16:37:25.902Z"
   },
   {
    "duration": 166,
    "start_time": "2023-01-24T16:37:26.307Z"
   },
   {
    "duration": 5,
    "start_time": "2023-01-24T16:37:26.474Z"
   },
   {
    "duration": 223,
    "start_time": "2023-01-24T16:37:26.481Z"
   },
   {
    "duration": 6,
    "start_time": "2023-01-24T16:37:26.705Z"
   },
   {
    "duration": 12,
    "start_time": "2023-01-24T16:37:26.712Z"
   },
   {
    "duration": 204,
    "start_time": "2023-01-24T16:37:26.725Z"
   },
   {
    "duration": 40,
    "start_time": "2023-01-24T16:37:26.930Z"
   },
   {
    "duration": 20,
    "start_time": "2023-01-24T16:37:26.975Z"
   },
   {
    "duration": 16,
    "start_time": "2023-01-24T16:37:26.997Z"
   },
   {
    "duration": 489,
    "start_time": "2023-01-24T16:37:27.014Z"
   },
   {
    "duration": 287,
    "start_time": "2023-01-24T16:37:27.505Z"
   },
   {
    "duration": 390,
    "start_time": "2023-01-24T16:37:27.795Z"
   },
   {
    "duration": 330,
    "start_time": "2023-01-24T16:37:28.186Z"
   },
   {
    "duration": 11,
    "start_time": "2023-01-24T16:37:28.518Z"
   },
   {
    "duration": 64,
    "start_time": "2023-01-24T16:37:28.531Z"
   },
   {
    "duration": 16,
    "start_time": "2023-01-24T16:37:28.597Z"
   },
   {
    "duration": 238,
    "start_time": "2023-01-24T16:40:58.021Z"
   },
   {
    "duration": 1265,
    "start_time": "2023-01-25T16:13:10.305Z"
   },
   {
    "duration": 122,
    "start_time": "2023-01-25T16:13:11.573Z"
   },
   {
    "duration": 14,
    "start_time": "2023-01-25T16:13:11.697Z"
   },
   {
    "duration": 10,
    "start_time": "2023-01-25T16:13:11.713Z"
   },
   {
    "duration": 14,
    "start_time": "2023-01-25T16:13:11.726Z"
   },
   {
    "duration": 12,
    "start_time": "2023-01-25T16:13:11.741Z"
   },
   {
    "duration": 68,
    "start_time": "2023-01-25T16:13:11.755Z"
   },
   {
    "duration": 10,
    "start_time": "2023-01-25T16:13:11.825Z"
   },
   {
    "duration": 38,
    "start_time": "2023-01-25T16:13:11.837Z"
   },
   {
    "duration": 12,
    "start_time": "2023-01-25T16:13:11.878Z"
   },
   {
    "duration": 22,
    "start_time": "2023-01-25T16:13:11.892Z"
   },
   {
    "duration": 19,
    "start_time": "2023-01-25T16:13:11.916Z"
   },
   {
    "duration": 100,
    "start_time": "2023-01-25T16:13:11.937Z"
   },
   {
    "duration": 11,
    "start_time": "2023-01-25T16:13:12.042Z"
   },
   {
    "duration": 32,
    "start_time": "2023-01-25T16:13:12.055Z"
   },
   {
    "duration": 23,
    "start_time": "2023-01-25T16:13:12.090Z"
   },
   {
    "duration": 21,
    "start_time": "2023-01-25T16:13:12.115Z"
   },
   {
    "duration": 21,
    "start_time": "2023-01-25T16:13:12.139Z"
   },
   {
    "duration": 23,
    "start_time": "2023-01-25T16:13:12.162Z"
   },
   {
    "duration": 16,
    "start_time": "2023-01-25T16:13:12.187Z"
   },
   {
    "duration": 22,
    "start_time": "2023-01-25T16:13:12.205Z"
   },
   {
    "duration": 30,
    "start_time": "2023-01-25T16:13:12.229Z"
   },
   {
    "duration": 23,
    "start_time": "2023-01-25T16:13:12.261Z"
   },
   {
    "duration": 23,
    "start_time": "2023-01-25T16:13:12.286Z"
   },
   {
    "duration": 41,
    "start_time": "2023-01-25T16:13:12.311Z"
   },
   {
    "duration": 14,
    "start_time": "2023-01-25T16:13:12.354Z"
   },
   {
    "duration": 416,
    "start_time": "2023-01-25T16:13:12.370Z"
   },
   {
    "duration": 10,
    "start_time": "2023-01-25T16:13:12.788Z"
   },
   {
    "duration": 359,
    "start_time": "2023-01-25T16:13:12.800Z"
   },
   {
    "duration": 251,
    "start_time": "2023-01-25T16:13:13.160Z"
   },
   {
    "duration": 406,
    "start_time": "2023-01-25T16:13:13.412Z"
   },
   {
    "duration": 280,
    "start_time": "2023-01-25T16:13:13.820Z"
   },
   {
    "duration": 384,
    "start_time": "2023-01-25T16:13:14.102Z"
   },
   {
    "duration": 160,
    "start_time": "2023-01-25T16:13:14.488Z"
   },
   {
    "duration": 6,
    "start_time": "2023-01-25T16:13:14.650Z"
   },
   {
    "duration": 250,
    "start_time": "2023-01-25T16:13:14.658Z"
   },
   {
    "duration": 9,
    "start_time": "2023-01-25T16:13:14.910Z"
   },
   {
    "duration": 38,
    "start_time": "2023-01-25T16:13:14.921Z"
   },
   {
    "duration": 220,
    "start_time": "2023-01-25T16:13:14.962Z"
   },
   {
    "duration": 29,
    "start_time": "2023-01-25T16:13:15.183Z"
   },
   {
    "duration": 31,
    "start_time": "2023-01-25T16:13:15.217Z"
   },
   {
    "duration": 48,
    "start_time": "2023-01-25T16:13:15.250Z"
   },
   {
    "duration": 329,
    "start_time": "2023-01-25T16:13:15.300Z"
   },
   {
    "duration": 251,
    "start_time": "2023-01-25T16:13:15.631Z"
   },
   {
    "duration": 404,
    "start_time": "2023-01-25T16:13:15.884Z"
   },
   {
    "duration": 357,
    "start_time": "2023-01-25T16:13:16.290Z"
   },
   {
    "duration": 13,
    "start_time": "2023-01-25T16:13:16.649Z"
   },
   {
    "duration": 72,
    "start_time": "2023-01-25T16:13:16.665Z"
   },
   {
    "duration": 18,
    "start_time": "2023-01-25T16:13:16.739Z"
   },
   {
    "duration": 964,
    "start_time": "2023-01-25T16:23:28.378Z"
   },
   {
    "duration": 79,
    "start_time": "2023-01-25T16:23:29.344Z"
   },
   {
    "duration": 13,
    "start_time": "2023-01-25T16:23:29.425Z"
   },
   {
    "duration": 9,
    "start_time": "2023-01-25T16:23:29.439Z"
   },
   {
    "duration": 13,
    "start_time": "2023-01-25T16:23:29.449Z"
   },
   {
    "duration": 10,
    "start_time": "2023-01-25T16:23:29.464Z"
   },
   {
    "duration": 21,
    "start_time": "2023-01-25T16:23:29.475Z"
   },
   {
    "duration": 7,
    "start_time": "2023-01-25T16:23:29.498Z"
   },
   {
    "duration": 11,
    "start_time": "2023-01-25T16:23:29.506Z"
   },
   {
    "duration": 11,
    "start_time": "2023-01-25T16:23:29.519Z"
   },
   {
    "duration": 14,
    "start_time": "2023-01-25T16:23:29.531Z"
   },
   {
    "duration": 29,
    "start_time": "2023-01-25T16:23:29.546Z"
   },
   {
    "duration": 39,
    "start_time": "2023-01-25T16:23:29.577Z"
   },
   {
    "duration": 7,
    "start_time": "2023-01-25T16:23:29.619Z"
   },
   {
    "duration": 12,
    "start_time": "2023-01-25T16:23:29.627Z"
   },
   {
    "duration": 18,
    "start_time": "2023-01-25T16:23:29.641Z"
   },
   {
    "duration": 14,
    "start_time": "2023-01-25T16:23:29.660Z"
   },
   {
    "duration": 10,
    "start_time": "2023-01-25T16:23:29.675Z"
   },
   {
    "duration": 8,
    "start_time": "2023-01-25T16:23:29.686Z"
   },
   {
    "duration": 5,
    "start_time": "2023-01-25T16:23:29.696Z"
   },
   {
    "duration": 6,
    "start_time": "2023-01-25T16:23:29.703Z"
   },
   {
    "duration": 9,
    "start_time": "2023-01-25T16:23:29.711Z"
   },
   {
    "duration": 20,
    "start_time": "2023-01-25T16:23:29.721Z"
   },
   {
    "duration": 8,
    "start_time": "2023-01-25T16:23:29.743Z"
   },
   {
    "duration": 8,
    "start_time": "2023-01-25T16:23:29.752Z"
   },
   {
    "duration": 12,
    "start_time": "2023-01-25T16:23:29.761Z"
   },
   {
    "duration": 286,
    "start_time": "2023-01-25T16:23:29.775Z"
   },
   {
    "duration": 9,
    "start_time": "2023-01-25T16:23:30.062Z"
   },
   {
    "duration": 304,
    "start_time": "2023-01-25T16:23:30.073Z"
   },
   {
    "duration": 228,
    "start_time": "2023-01-25T16:23:30.378Z"
   },
   {
    "duration": 358,
    "start_time": "2023-01-25T16:23:30.608Z"
   },
   {
    "duration": 257,
    "start_time": "2023-01-25T16:23:30.967Z"
   },
   {
    "duration": 353,
    "start_time": "2023-01-25T16:23:31.225Z"
   },
   {
    "duration": 166,
    "start_time": "2023-01-25T16:23:31.580Z"
   },
   {
    "duration": 4,
    "start_time": "2023-01-25T16:23:31.748Z"
   },
   {
    "duration": 195,
    "start_time": "2023-01-25T16:23:31.754Z"
   },
   {
    "duration": 5,
    "start_time": "2023-01-25T16:23:31.951Z"
   },
   {
    "duration": 9,
    "start_time": "2023-01-25T16:23:31.957Z"
   },
   {
    "duration": 137,
    "start_time": "2023-01-25T16:23:31.968Z"
   },
   {
    "duration": 32,
    "start_time": "2023-01-25T16:23:32.107Z"
   },
   {
    "duration": 10,
    "start_time": "2023-01-25T16:23:32.142Z"
   },
   {
    "duration": 18,
    "start_time": "2023-01-25T16:23:32.153Z"
   },
   {
    "duration": 280,
    "start_time": "2023-01-25T16:23:32.172Z"
   },
   {
    "duration": 288,
    "start_time": "2023-01-25T16:23:32.454Z"
   },
   {
    "duration": 396,
    "start_time": "2023-01-25T16:23:32.744Z"
   },
   {
    "duration": 322,
    "start_time": "2023-01-25T16:23:33.141Z"
   },
   {
    "duration": 11,
    "start_time": "2023-01-25T16:23:33.465Z"
   },
   {
    "duration": 25,
    "start_time": "2023-01-25T16:23:33.478Z"
   },
   {
    "duration": 36,
    "start_time": "2023-01-25T16:23:33.505Z"
   }
  ],
  "kernelspec": {
   "display_name": "Python 3 (ipykernel)",
   "language": "python",
   "name": "python3"
  },
  "language_info": {
   "codemirror_mode": {
    "name": "ipython",
    "version": 3
   },
   "file_extension": ".py",
   "mimetype": "text/x-python",
   "name": "python",
   "nbconvert_exporter": "python",
   "pygments_lexer": "ipython3",
   "version": "3.9.7"
  },
  "toc": {
   "base_numbering": 1,
   "nav_menu": {},
   "number_sections": true,
   "sideBar": true,
   "skip_h1_title": true,
   "title_cell": "Table of Contents",
   "title_sidebar": "Contents",
   "toc_cell": false,
   "toc_position": {},
   "toc_section_display": true,
   "toc_window_display": false
  }
 },
 "nbformat": 4,
 "nbformat_minor": 2
}
